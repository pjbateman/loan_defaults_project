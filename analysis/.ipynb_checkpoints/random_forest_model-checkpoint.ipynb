{
 "cells": [
  {
   "cell_type": "code",
   "execution_count": 580,
   "id": "d5d0062d",
   "metadata": {},
   "outputs": [],
   "source": [
    "import pandas as pd\n",
    "import pandas_profiling as pp\n",
    "from sklearn.model_selection import train_test_split # to make the test-train split of the data\n",
    "from sklearn.linear_model import LogisticRegression # for the Logistic Regression model\n",
    "from sklearn.metrics import roc_auc_score # to calculate an ROC value of our model\n",
    "from sklearn.metrics import confusion_matrix # to make confusion matrix"
   ]
  },
  {
   "cell_type": "code",
   "execution_count": 565,
   "id": "2aadfb40",
   "metadata": {},
   "outputs": [],
   "source": [
    "# read in the clean data\n",
    "loans_data_clean = pd.read_csv(\"../data/clean_data/lending_club_loans_cleaned.csv\")\n",
    "# make a working copy\n",
    "df = loans_data_clean.copy()"
   ]
  },
  {
   "cell_type": "code",
   "execution_count": 566,
   "id": "a22c54d2",
   "metadata": {},
   "outputs": [
    {
     "data": {
      "text/plain": [
       "(40856, 14)"
      ]
     },
     "execution_count": 566,
     "metadata": {},
     "output_type": "execute_result"
    }
   ],
   "source": [
    "df.shape"
   ]
  },
  {
   "cell_type": "code",
   "execution_count": 567,
   "id": "60747a67",
   "metadata": {},
   "outputs": [],
   "source": [
    "# decided to drop 'int_rate' as it is highly-correlated with fico\n",
    "# decided to drop 'sub_grade' as it will create many dummy variables, and it is equivalent to fico\n",
    "df.drop(['int_rate'], axis = 1, inplace = True)\n",
    "# df.drop(['fico'], axis = 1, inplace = True)\n",
    "df.drop(['sub_grade'], axis = 1, inplace = True)\n",
    "df.drop(['pub_rec'], axis = 1, inplace = True)\n",
    "df.drop(['term'], axis = 1, inplace = True)\n",
    "df.drop(['addr_state'], axis = 1, inplace = True)\n",
    "df.drop(['dti'], axis = 1, inplace = True)\n",
    "df.drop(['home_ownership'], axis = 1, inplace = True)\n",
    "df.drop(['emp_length'], axis = 1, inplace = True)\n",
    "# df.drop(['annual_inc'], axis = 1, inplace = True)\n",
    "df.drop(['loan_amnt'], axis = 1, inplace = True)\n",
    "df.drop(['verification_status'], axis = 1, inplace = True)\n",
    "df.drop(['issue_yr'], axis = 1, inplace = True)"
   ]
  },
  {
   "cell_type": "code",
   "execution_count": 568,
   "id": "5a74f98d",
   "metadata": {},
   "outputs": [
    {
     "data": {
      "text/plain": [
       "(40856, 3)"
      ]
     },
     "execution_count": 568,
     "metadata": {},
     "output_type": "execute_result"
    }
   ],
   "source": [
    "df.shape"
   ]
  },
  {
   "cell_type": "code",
   "execution_count": 569,
   "id": "f52c257d",
   "metadata": {},
   "outputs": [
    {
     "data": {
      "text/plain": [
       "Index(['defaulted', 'fico', 'annual_inc'], dtype='object')"
      ]
     },
     "execution_count": 569,
     "metadata": {},
     "output_type": "execute_result"
    }
   ],
   "source": [
    "df.columns"
   ]
  },
  {
   "cell_type": "code",
   "execution_count": 570,
   "id": "ee769ec9",
   "metadata": {
    "scrolled": false
   },
   "outputs": [],
   "source": [
    "#pp.ProfileReport(df)"
   ]
  },
  {
   "cell_type": "code",
   "execution_count": 571,
   "id": "957f8ba7",
   "metadata": {},
   "outputs": [
    {
     "data": {
      "text/html": [
       "<div>\n",
       "<style scoped>\n",
       "    .dataframe tbody tr th:only-of-type {\n",
       "        vertical-align: middle;\n",
       "    }\n",
       "\n",
       "    .dataframe tbody tr th {\n",
       "        vertical-align: top;\n",
       "    }\n",
       "\n",
       "    .dataframe thead th {\n",
       "        text-align: right;\n",
       "    }\n",
       "</style>\n",
       "<table border=\"1\" class=\"dataframe\">\n",
       "  <thead>\n",
       "    <tr style=\"text-align: right;\">\n",
       "      <th></th>\n",
       "      <th>defaulted</th>\n",
       "      <th>fico</th>\n",
       "      <th>annual_inc</th>\n",
       "    </tr>\n",
       "  </thead>\n",
       "  <tbody>\n",
       "    <tr>\n",
       "      <th>0</th>\n",
       "      <td>False</td>\n",
       "      <td>735.0</td>\n",
       "      <td>24000</td>\n",
       "    </tr>\n",
       "    <tr>\n",
       "      <th>1</th>\n",
       "      <td>True</td>\n",
       "      <td>740.0</td>\n",
       "      <td>30000</td>\n",
       "    </tr>\n",
       "    <tr>\n",
       "      <th>2</th>\n",
       "      <td>False</td>\n",
       "      <td>735.0</td>\n",
       "      <td>12252</td>\n",
       "    </tr>\n",
       "    <tr>\n",
       "      <th>3</th>\n",
       "      <td>False</td>\n",
       "      <td>690.0</td>\n",
       "      <td>49200</td>\n",
       "    </tr>\n",
       "    <tr>\n",
       "      <th>4</th>\n",
       "      <td>False</td>\n",
       "      <td>730.0</td>\n",
       "      <td>36000</td>\n",
       "    </tr>\n",
       "  </tbody>\n",
       "</table>\n",
       "</div>"
      ],
      "text/plain": [
       "   defaulted   fico  annual_inc\n",
       "0      False  735.0       24000\n",
       "1       True  740.0       30000\n",
       "2      False  735.0       12252\n",
       "3      False  690.0       49200\n",
       "4      False  730.0       36000"
      ]
     },
     "execution_count": 571,
     "metadata": {},
     "output_type": "execute_result"
    }
   ],
   "source": [
    "df = pd.get_dummies(df, drop_first = True)\n",
    "\n",
    "df.head()"
   ]
  },
  {
   "cell_type": "code",
   "execution_count": 572,
   "id": "28eb462f",
   "metadata": {},
   "outputs": [],
   "source": [
    "# split our data into the predictor and outcome variables\n",
    "loans_predictors = df.drop(columns = \"defaulted\")\n",
    "loans_response = df[\"defaulted\"]"
   ]
  },
  {
   "cell_type": "code",
   "execution_count": 573,
   "id": "1aee73e6",
   "metadata": {},
   "outputs": [],
   "source": [
    "# we are interested in a prediction model, so we will create a test and train split of the data\n",
    "loans_pred_train, loans_pred_test, loans_resp_train, loans_resp_test = \\\n",
    "train_test_split(loans_predictors, loans_response, test_size = 0.1, random_state = 7)\n",
    "# the training data is 90% of our starting dataset, the test data is 10% of our starting dataset\n",
    "# we use 'random_state = 7' in order to ensure the random selection gives reproducible results"
   ]
  },
  {
   "cell_type": "code",
   "execution_count": 574,
   "id": "c6552d13",
   "metadata": {},
   "outputs": [
    {
     "data": {
      "text/plain": [
       "LogisticRegression()"
      ]
     },
     "execution_count": 574,
     "metadata": {},
     "output_type": "execute_result"
    }
   ],
   "source": [
    "# Logistic regression is the appropriate regression analysis to conduct when ...\n",
    "# ...the dependent variable is dichotomous (binary). \n",
    "# building the Logistic Regression model\n",
    "\n",
    "model = LogisticRegression()\n",
    "\n",
    "model.fit(loans_pred_train, loans_resp_train)"
   ]
  },
  {
   "cell_type": "code",
   "execution_count": 575,
   "id": "0d3a9b8a",
   "metadata": {},
   "outputs": [
    {
     "data": {
      "text/plain": [
       "0.8493608920315474"
      ]
     },
     "execution_count": 575,
     "metadata": {},
     "output_type": "execute_result"
    }
   ],
   "source": [
    "# the model accuracy on the training data\n",
    "model.score(loans_pred_train, loans_resp_train)"
   ]
  },
  {
   "cell_type": "code",
   "execution_count": 576,
   "id": "f6ea90fe",
   "metadata": {},
   "outputs": [
    {
     "data": {
      "text/plain": [
       "0.8463044542339696"
      ]
     },
     "execution_count": 576,
     "metadata": {},
     "output_type": "execute_result"
    }
   ],
   "source": [
    "# the accuracy on the test data\n",
    "model.score(loans_pred_test, loans_resp_test)"
   ]
  },
  {
   "cell_type": "code",
   "execution_count": 577,
   "id": "3d1e6016",
   "metadata": {},
   "outputs": [
    {
     "data": {
      "text/plain": [
       "0.6214961706078033"
      ]
     },
     "execution_count": 577,
     "metadata": {},
     "output_type": "execute_result"
    }
   ],
   "source": [
    "# to prepare for calculation of the ROC, let's get the predicted proabilities of default from the model\n",
    "pred_test = model.predict_proba(loans_pred_test)\n",
    "# we have a 2d array where each row sums to 1, but we only want the second value (whether a loan defaults or not)\n",
    "pred_test = pred_test[:, 1]\n",
    "# now to calculate the ROC\n",
    "roc_auc_score(y_true = loans_resp_test, y_score = pred_test)\n",
    "# the AUC score of 0.62 indicates some predictive power of the model"
   ]
  },
  {
   "cell_type": "code",
   "execution_count": 578,
   "id": "25c2a0c3",
   "metadata": {},
   "outputs": [
    {
     "data": {
      "text/html": [
       "<div>\n",
       "<style scoped>\n",
       "    .dataframe tbody tr th:only-of-type {\n",
       "        vertical-align: middle;\n",
       "    }\n",
       "\n",
       "    .dataframe tbody tr th {\n",
       "        vertical-align: top;\n",
       "    }\n",
       "\n",
       "    .dataframe thead th {\n",
       "        text-align: right;\n",
       "    }\n",
       "</style>\n",
       "<table border=\"1\" class=\"dataframe\">\n",
       "  <thead>\n",
       "    <tr style=\"text-align: right;\">\n",
       "      <th></th>\n",
       "      <th>Variable</th>\n",
       "      <th>Coefficient</th>\n",
       "      <th>Standardised</th>\n",
       "    </tr>\n",
       "  </thead>\n",
       "  <tbody>\n",
       "    <tr>\n",
       "      <th>fico</th>\n",
       "      <td>fico</td>\n",
       "      <td>-0.002272</td>\n",
       "      <td>-0.082041</td>\n",
       "    </tr>\n",
       "    <tr>\n",
       "      <th>annual_inc</th>\n",
       "      <td>annual_inc</td>\n",
       "      <td>-0.000002</td>\n",
       "      <td>-0.094169</td>\n",
       "    </tr>\n",
       "  </tbody>\n",
       "</table>\n",
       "</div>"
      ],
      "text/plain": [
       "              Variable  Coefficient  Standardised\n",
       "fico              fico    -0.002272     -0.082041\n",
       "annual_inc  annual_inc    -0.000002     -0.094169"
      ]
     },
     "execution_count": 578,
     "metadata": {},
     "output_type": "execute_result"
    }
   ],
   "source": [
    "\n",
    "# model = LogisticRegression()\n",
    "fit = model.fit(loans_pred_train, loans_resp_train)\n",
    "\n",
    "pd.DataFrame(\n",
    "  {\n",
    "  \"Variable\" : loans_pred_train.columns.values,\n",
    "  \"Coefficient\" : fit.coef_[0],\n",
    "  \"Standardised\": np.std(loans_pred_train, 0)*fit.coef_[0]\n",
    "  }\n",
    ")"
   ]
  },
  {
   "cell_type": "code",
   "execution_count": 594,
   "id": "c5e73c7c",
   "metadata": {},
   "outputs": [],
   "source": [
    "# confusion_matrix(loans_resp_test, loans_pred_train)"
   ]
  },
  {
   "cell_type": "markdown",
   "id": "7d57262c",
   "metadata": {},
   "source": [
    "### Random Forest"
   ]
  },
  {
   "cell_type": "code",
   "execution_count": 592,
   "id": "85a6d67c",
   "metadata": {},
   "outputs": [
    {
     "data": {
      "text/plain": [
       "RandomForestClassifier(n_estimators=10)"
      ]
     },
     "execution_count": 592,
     "metadata": {},
     "output_type": "execute_result"
    }
   ],
   "source": [
    "from sklearn.ensemble import RandomForestClassifier\n",
    "\n",
    "# run th emodel with 10 trees\n",
    "model = RandomForestClassifier(n_estimators = 10)\n",
    "\n",
    "# train the model on the training data\n",
    "model.fit(loans_pred_train, loans_resp_train)"
   ]
  },
  {
   "cell_type": "code",
   "execution_count": 593,
   "id": "b37080ed",
   "metadata": {},
   "outputs": [
    {
     "data": {
      "text/plain": [
       "0.8184043073910915"
      ]
     },
     "execution_count": 593,
     "metadata": {},
     "output_type": "execute_result"
    }
   ],
   "source": [
    "model.score(loans_pred_test, loans_resp_test)"
   ]
  },
  {
   "cell_type": "code",
   "execution_count": null,
   "id": "b2c8f224",
   "metadata": {},
   "outputs": [],
   "source": []
  }
 ],
 "metadata": {
  "kernelspec": {
   "display_name": "Python 3",
   "language": "python",
   "name": "python3"
  },
  "language_info": {
   "codemirror_mode": {
    "name": "ipython",
    "version": 3
   },
   "file_extension": ".py",
   "mimetype": "text/x-python",
   "name": "python",
   "nbconvert_exporter": "python",
   "pygments_lexer": "ipython3",
   "version": "3.8.8"
  },
  "varInspector": {
   "cols": {
    "lenName": 16,
    "lenType": 16,
    "lenVar": 40
   },
   "kernels_config": {
    "python": {
     "delete_cmd_postfix": "",
     "delete_cmd_prefix": "del ",
     "library": "var_list.py",
     "varRefreshCmd": "print(var_dic_list())"
    },
    "r": {
     "delete_cmd_postfix": ") ",
     "delete_cmd_prefix": "rm(",
     "library": "var_list.r",
     "varRefreshCmd": "cat(var_dic_list()) "
    }
   },
   "types_to_exclude": [
    "module",
    "function",
    "builtin_function_or_method",
    "instance",
    "_Feature"
   ],
   "window_display": false
  }
 },
 "nbformat": 4,
 "nbformat_minor": 5
}
