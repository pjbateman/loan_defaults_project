{
 "cells": [
  {
   "cell_type": "code",
   "execution_count": 22,
   "id": "fed1e94e",
   "metadata": {},
   "outputs": [],
   "source": [
    "import pandas as pd # for data manipulation\n",
    "import numpy as np # for numerical analysis\n",
    "import seaborn as sns # for making graphs\n",
    "import matplotlib.pyplot as plt # for making graphs"
   ]
  },
  {
   "cell_type": "code",
   "execution_count": 6,
   "id": "a1052ffe",
   "metadata": {},
   "outputs": [],
   "source": [
    "# read in the clean data\n",
    "loans_data_clean = pd.read_csv(\"../data/clean_data/lending_club_loans_cleaned.csv\")\n",
    "# make a working copy\n",
    "df = loans_data_clean.copy()"
   ]
  },
  {
   "cell_type": "code",
   "execution_count": 12,
   "id": "0026bc15",
   "metadata": {},
   "outputs": [
    {
     "data": {
      "text/plain": [
       "(40869, 14)"
      ]
     },
     "execution_count": 12,
     "metadata": {},
     "output_type": "execute_result"
    }
   ],
   "source": [
    "df.shape"
   ]
  },
  {
   "cell_type": "code",
   "execution_count": 11,
   "id": "94ecc99a",
   "metadata": {},
   "outputs": [
    {
     "data": {
      "text/html": [
       "<div>\n",
       "<style scoped>\n",
       "    .dataframe tbody tr th:only-of-type {\n",
       "        vertical-align: middle;\n",
       "    }\n",
       "\n",
       "    .dataframe tbody tr th {\n",
       "        vertical-align: top;\n",
       "    }\n",
       "\n",
       "    .dataframe thead th {\n",
       "        text-align: right;\n",
       "    }\n",
       "</style>\n",
       "<table border=\"1\" class=\"dataframe\">\n",
       "  <thead>\n",
       "    <tr style=\"text-align: right;\">\n",
       "      <th></th>\n",
       "      <th>defaulted</th>\n",
       "      <th>loan_amnt</th>\n",
       "      <th>term</th>\n",
       "      <th>int_rate</th>\n",
       "      <th>sub_grade</th>\n",
       "      <th>dti</th>\n",
       "      <th>fico</th>\n",
       "      <th>pub_rec</th>\n",
       "      <th>emp_length</th>\n",
       "      <th>home_ownership</th>\n",
       "      <th>verification_status</th>\n",
       "      <th>addr_state</th>\n",
       "      <th>annual_inc</th>\n",
       "      <th>issue_yr</th>\n",
       "    </tr>\n",
       "  </thead>\n",
       "  <tbody>\n",
       "    <tr>\n",
       "      <th>0</th>\n",
       "      <td>False</td>\n",
       "      <td>5000.0</td>\n",
       "      <td>36 months</td>\n",
       "      <td>10.65</td>\n",
       "      <td>B2</td>\n",
       "      <td>27.65</td>\n",
       "      <td>735.0</td>\n",
       "      <td>0</td>\n",
       "      <td>10+ years</td>\n",
       "      <td>RENT</td>\n",
       "      <td>Verified</td>\n",
       "      <td>AZ</td>\n",
       "      <td>24000</td>\n",
       "      <td>2011</td>\n",
       "    </tr>\n",
       "    <tr>\n",
       "      <th>1</th>\n",
       "      <td>True</td>\n",
       "      <td>2500.0</td>\n",
       "      <td>60 months</td>\n",
       "      <td>15.27</td>\n",
       "      <td>C4</td>\n",
       "      <td>1.00</td>\n",
       "      <td>740.0</td>\n",
       "      <td>0</td>\n",
       "      <td>&lt; 1 year</td>\n",
       "      <td>RENT</td>\n",
       "      <td>Source Verified</td>\n",
       "      <td>GA</td>\n",
       "      <td>30000</td>\n",
       "      <td>2011</td>\n",
       "    </tr>\n",
       "    <tr>\n",
       "      <th>2</th>\n",
       "      <td>False</td>\n",
       "      <td>2400.0</td>\n",
       "      <td>36 months</td>\n",
       "      <td>15.96</td>\n",
       "      <td>C5</td>\n",
       "      <td>8.72</td>\n",
       "      <td>735.0</td>\n",
       "      <td>0</td>\n",
       "      <td>10+ years</td>\n",
       "      <td>RENT</td>\n",
       "      <td>Not Verified</td>\n",
       "      <td>IL</td>\n",
       "      <td>12252</td>\n",
       "      <td>2011</td>\n",
       "    </tr>\n",
       "    <tr>\n",
       "      <th>3</th>\n",
       "      <td>False</td>\n",
       "      <td>10000.0</td>\n",
       "      <td>36 months</td>\n",
       "      <td>13.49</td>\n",
       "      <td>C1</td>\n",
       "      <td>20.00</td>\n",
       "      <td>690.0</td>\n",
       "      <td>0</td>\n",
       "      <td>10+ years</td>\n",
       "      <td>RENT</td>\n",
       "      <td>Source Verified</td>\n",
       "      <td>CA</td>\n",
       "      <td>49200</td>\n",
       "      <td>2011</td>\n",
       "    </tr>\n",
       "    <tr>\n",
       "      <th>4</th>\n",
       "      <td>False</td>\n",
       "      <td>5000.0</td>\n",
       "      <td>36 months</td>\n",
       "      <td>7.90</td>\n",
       "      <td>A4</td>\n",
       "      <td>11.20</td>\n",
       "      <td>730.0</td>\n",
       "      <td>0</td>\n",
       "      <td>3 years</td>\n",
       "      <td>RENT</td>\n",
       "      <td>Source Verified</td>\n",
       "      <td>AZ</td>\n",
       "      <td>36000</td>\n",
       "      <td>2011</td>\n",
       "    </tr>\n",
       "  </tbody>\n",
       "</table>\n",
       "</div>"
      ],
      "text/plain": [
       "   defaulted  loan_amnt       term  int_rate sub_grade    dti   fico  pub_rec  \\\n",
       "0      False     5000.0  36 months     10.65        B2  27.65  735.0        0   \n",
       "1       True     2500.0  60 months     15.27        C4   1.00  740.0        0   \n",
       "2      False     2400.0  36 months     15.96        C5   8.72  735.0        0   \n",
       "3      False    10000.0  36 months     13.49        C1  20.00  690.0        0   \n",
       "4      False     5000.0  36 months      7.90        A4  11.20  730.0        0   \n",
       "\n",
       "  emp_length home_ownership verification_status addr_state  annual_inc  \\\n",
       "0  10+ years           RENT            Verified         AZ       24000   \n",
       "1   < 1 year           RENT     Source Verified         GA       30000   \n",
       "2  10+ years           RENT        Not Verified         IL       12252   \n",
       "3  10+ years           RENT     Source Verified         CA       49200   \n",
       "4    3 years           RENT     Source Verified         AZ       36000   \n",
       "\n",
       "   issue_yr  \n",
       "0      2011  \n",
       "1      2011  \n",
       "2      2011  \n",
       "3      2011  \n",
       "4      2011  "
      ]
     },
     "execution_count": 11,
     "metadata": {},
     "output_type": "execute_result"
    }
   ],
   "source": [
    "df.head()"
   ]
  },
  {
   "cell_type": "code",
   "execution_count": 13,
   "id": "8cc90069",
   "metadata": {},
   "outputs": [
    {
     "data": {
      "text/plain": [
       "<bound method DataFrame.info of        defaulted  loan_amnt       term  int_rate sub_grade    dti   fico  \\\n",
       "0          False     5000.0  36 months     10.65        B2  27.65  735.0   \n",
       "1           True     2500.0  60 months     15.27        C4   1.00  740.0   \n",
       "2          False     2400.0  36 months     15.96        C5   8.72  735.0   \n",
       "3          False    10000.0  36 months     13.49        C1  20.00  690.0   \n",
       "4          False     5000.0  36 months      7.90        A4  11.20  730.0   \n",
       "...          ...        ...        ...       ...       ...    ...    ...   \n",
       "40864      False     5350.0  36 months     13.12        D5  15.00  660.0   \n",
       "40865      False    10000.0  36 months     14.70        E5   7.22  650.0   \n",
       "40866      False     2000.0  36 months      7.12        A1   5.60  800.0   \n",
       "40867      False     6000.0  36 months     10.59        C2  12.90  695.0   \n",
       "40868      False     4400.0  36 months      9.64        B4   3.72  695.0   \n",
       "\n",
       "       pub_rec emp_length home_ownership verification_status addr_state  \\\n",
       "0            0  10+ years           RENT            Verified         AZ   \n",
       "1            0   < 1 year           RENT     Source Verified         GA   \n",
       "2            0  10+ years           RENT        Not Verified         IL   \n",
       "3            0  10+ years           RENT     Source Verified         CA   \n",
       "4            0    3 years           RENT     Source Verified         AZ   \n",
       "...        ...        ...            ...                 ...        ...   \n",
       "40864        0     1 year            OWN        Not Verified         NJ   \n",
       "40865        0     1 year           RENT        Not Verified         GA   \n",
       "40866        0    7 years       MORTGAGE        Not Verified         CT   \n",
       "40867        0   < 1 year           RENT        Not Verified         CT   \n",
       "40868        0    2 years       MORTGAGE        Not Verified         NJ   \n",
       "\n",
       "       annual_inc  issue_yr  \n",
       "0           24000      2011  \n",
       "1           30000      2011  \n",
       "2           12252      2011  \n",
       "3           49200      2011  \n",
       "4           36000      2011  \n",
       "...           ...       ...  \n",
       "40864        4000      2007  \n",
       "40865       50000      2007  \n",
       "40866      150000      2007  \n",
       "40867       20000      2007  \n",
       "40868       30000      2007  \n",
       "\n",
       "[40869 rows x 14 columns]>"
      ]
     },
     "execution_count": 13,
     "metadata": {},
     "output_type": "execute_result"
    }
   ],
   "source": [
    "df.info"
   ]
  },
  {
   "cell_type": "code",
   "execution_count": null,
   "id": "13bab535",
   "metadata": {},
   "outputs": [],
   "source": [
    "# checking there are no null values\n",
    "print(df.isnull().sum())"
   ]
  },
  {
   "cell_type": "code",
   "execution_count": 16,
   "id": "704d4730",
   "metadata": {},
   "outputs": [
    {
     "data": {
      "text/html": [
       "<div>\n",
       "<style scoped>\n",
       "    .dataframe tbody tr th:only-of-type {\n",
       "        vertical-align: middle;\n",
       "    }\n",
       "\n",
       "    .dataframe tbody tr th {\n",
       "        vertical-align: top;\n",
       "    }\n",
       "\n",
       "    .dataframe thead th {\n",
       "        text-align: right;\n",
       "    }\n",
       "</style>\n",
       "<table border=\"1\" class=\"dataframe\">\n",
       "  <thead>\n",
       "    <tr style=\"text-align: right;\">\n",
       "      <th></th>\n",
       "      <th>defaulted</th>\n",
       "      <th>loan_amnt</th>\n",
       "      <th>term</th>\n",
       "      <th>int_rate</th>\n",
       "      <th>sub_grade</th>\n",
       "      <th>dti</th>\n",
       "      <th>fico</th>\n",
       "      <th>pub_rec</th>\n",
       "      <th>emp_length</th>\n",
       "      <th>home_ownership</th>\n",
       "      <th>verification_status</th>\n",
       "      <th>addr_state</th>\n",
       "      <th>annual_inc</th>\n",
       "      <th>issue_yr</th>\n",
       "    </tr>\n",
       "  </thead>\n",
       "  <tbody>\n",
       "    <tr>\n",
       "      <th>count</th>\n",
       "      <td>40869</td>\n",
       "      <td>40869.000000</td>\n",
       "      <td>40869</td>\n",
       "      <td>40869.000000</td>\n",
       "      <td>40869</td>\n",
       "      <td>40869.000000</td>\n",
       "      <td>40869.000000</td>\n",
       "      <td>40869.000000</td>\n",
       "      <td>40869</td>\n",
       "      <td>40869</td>\n",
       "      <td>40869</td>\n",
       "      <td>40869</td>\n",
       "      <td>4.086900e+04</td>\n",
       "      <td>40869.000000</td>\n",
       "    </tr>\n",
       "    <tr>\n",
       "      <th>unique</th>\n",
       "      <td>2</td>\n",
       "      <td>NaN</td>\n",
       "      <td>2</td>\n",
       "      <td>NaN</td>\n",
       "      <td>35</td>\n",
       "      <td>NaN</td>\n",
       "      <td>NaN</td>\n",
       "      <td>NaN</td>\n",
       "      <td>11</td>\n",
       "      <td>5</td>\n",
       "      <td>3</td>\n",
       "      <td>50</td>\n",
       "      <td>NaN</td>\n",
       "      <td>NaN</td>\n",
       "    </tr>\n",
       "    <tr>\n",
       "      <th>top</th>\n",
       "      <td>False</td>\n",
       "      <td>NaN</td>\n",
       "      <td>36 months</td>\n",
       "      <td>NaN</td>\n",
       "      <td>B3</td>\n",
       "      <td>NaN</td>\n",
       "      <td>NaN</td>\n",
       "      <td>NaN</td>\n",
       "      <td>10+ years</td>\n",
       "      <td>RENT</td>\n",
       "      <td>Not Verified</td>\n",
       "      <td>CA</td>\n",
       "      <td>NaN</td>\n",
       "      <td>NaN</td>\n",
       "    </tr>\n",
       "    <tr>\n",
       "      <th>freq</th>\n",
       "      <td>34702</td>\n",
       "      <td>NaN</td>\n",
       "      <td>30670</td>\n",
       "      <td>NaN</td>\n",
       "      <td>2869</td>\n",
       "      <td>NaN</td>\n",
       "      <td>NaN</td>\n",
       "      <td>NaN</td>\n",
       "      <td>9184</td>\n",
       "      <td>19538</td>\n",
       "      <td>18207</td>\n",
       "      <td>7164</td>\n",
       "      <td>NaN</td>\n",
       "      <td>NaN</td>\n",
       "    </tr>\n",
       "    <tr>\n",
       "      <th>mean</th>\n",
       "      <td>NaN</td>\n",
       "      <td>11071.230639</td>\n",
       "      <td>NaN</td>\n",
       "      <td>12.157134</td>\n",
       "      <td>NaN</td>\n",
       "      <td>13.364868</td>\n",
       "      <td>712.701069</td>\n",
       "      <td>0.056865</td>\n",
       "      <td>NaN</td>\n",
       "      <td>NaN</td>\n",
       "      <td>NaN</td>\n",
       "      <td>NaN</td>\n",
       "      <td>6.966786e+04</td>\n",
       "      <td>2010.211603</td>\n",
       "    </tr>\n",
       "    <tr>\n",
       "      <th>std</th>\n",
       "      <td>NaN</td>\n",
       "      <td>7351.270131</td>\n",
       "      <td>NaN</td>\n",
       "      <td>3.682448</td>\n",
       "      <td>NaN</td>\n",
       "      <td>6.715654</td>\n",
       "      <td>36.058933</td>\n",
       "      <td>0.243434</td>\n",
       "      <td>NaN</td>\n",
       "      <td>NaN</td>\n",
       "      <td>NaN</td>\n",
       "      <td>NaN</td>\n",
       "      <td>6.477603e+04</td>\n",
       "      <td>0.972184</td>\n",
       "    </tr>\n",
       "    <tr>\n",
       "      <th>min</th>\n",
       "      <td>NaN</td>\n",
       "      <td>500.000000</td>\n",
       "      <td>NaN</td>\n",
       "      <td>5.420000</td>\n",
       "      <td>NaN</td>\n",
       "      <td>0.000000</td>\n",
       "      <td>610.000000</td>\n",
       "      <td>0.000000</td>\n",
       "      <td>NaN</td>\n",
       "      <td>NaN</td>\n",
       "      <td>NaN</td>\n",
       "      <td>NaN</td>\n",
       "      <td>1.896000e+03</td>\n",
       "      <td>2007.000000</td>\n",
       "    </tr>\n",
       "    <tr>\n",
       "      <th>25%</th>\n",
       "      <td>NaN</td>\n",
       "      <td>5300.000000</td>\n",
       "      <td>NaN</td>\n",
       "      <td>9.630000</td>\n",
       "      <td>NaN</td>\n",
       "      <td>8.200000</td>\n",
       "      <td>685.000000</td>\n",
       "      <td>0.000000</td>\n",
       "      <td>NaN</td>\n",
       "      <td>NaN</td>\n",
       "      <td>NaN</td>\n",
       "      <td>NaN</td>\n",
       "      <td>4.100000e+04</td>\n",
       "      <td>2010.000000</td>\n",
       "    </tr>\n",
       "    <tr>\n",
       "      <th>50%</th>\n",
       "      <td>NaN</td>\n",
       "      <td>9750.000000</td>\n",
       "      <td>NaN</td>\n",
       "      <td>11.990000</td>\n",
       "      <td>NaN</td>\n",
       "      <td>13.470000</td>\n",
       "      <td>710.000000</td>\n",
       "      <td>0.000000</td>\n",
       "      <td>NaN</td>\n",
       "      <td>NaN</td>\n",
       "      <td>NaN</td>\n",
       "      <td>NaN</td>\n",
       "      <td>6.000000e+04</td>\n",
       "      <td>2011.000000</td>\n",
       "    </tr>\n",
       "    <tr>\n",
       "      <th>75%</th>\n",
       "      <td>NaN</td>\n",
       "      <td>15000.000000</td>\n",
       "      <td>NaN</td>\n",
       "      <td>14.720000</td>\n",
       "      <td>NaN</td>\n",
       "      <td>18.650000</td>\n",
       "      <td>740.000000</td>\n",
       "      <td>0.000000</td>\n",
       "      <td>NaN</td>\n",
       "      <td>NaN</td>\n",
       "      <td>NaN</td>\n",
       "      <td>NaN</td>\n",
       "      <td>8.300400e+04</td>\n",
       "      <td>2011.000000</td>\n",
       "    </tr>\n",
       "    <tr>\n",
       "      <th>max</th>\n",
       "      <td>NaN</td>\n",
       "      <td>35000.000000</td>\n",
       "      <td>NaN</td>\n",
       "      <td>24.590000</td>\n",
       "      <td>NaN</td>\n",
       "      <td>29.990000</td>\n",
       "      <td>825.000000</td>\n",
       "      <td>5.000000</td>\n",
       "      <td>NaN</td>\n",
       "      <td>NaN</td>\n",
       "      <td>NaN</td>\n",
       "      <td>NaN</td>\n",
       "      <td>6.000000e+06</td>\n",
       "      <td>2011.000000</td>\n",
       "    </tr>\n",
       "  </tbody>\n",
       "</table>\n",
       "</div>"
      ],
      "text/plain": [
       "       defaulted     loan_amnt       term      int_rate sub_grade  \\\n",
       "count      40869  40869.000000      40869  40869.000000     40869   \n",
       "unique         2           NaN          2           NaN        35   \n",
       "top        False           NaN  36 months           NaN        B3   \n",
       "freq       34702           NaN      30670           NaN      2869   \n",
       "mean         NaN  11071.230639        NaN     12.157134       NaN   \n",
       "std          NaN   7351.270131        NaN      3.682448       NaN   \n",
       "min          NaN    500.000000        NaN      5.420000       NaN   \n",
       "25%          NaN   5300.000000        NaN      9.630000       NaN   \n",
       "50%          NaN   9750.000000        NaN     11.990000       NaN   \n",
       "75%          NaN  15000.000000        NaN     14.720000       NaN   \n",
       "max          NaN  35000.000000        NaN     24.590000       NaN   \n",
       "\n",
       "                 dti          fico       pub_rec emp_length home_ownership  \\\n",
       "count   40869.000000  40869.000000  40869.000000      40869          40869   \n",
       "unique           NaN           NaN           NaN         11              5   \n",
       "top              NaN           NaN           NaN  10+ years           RENT   \n",
       "freq             NaN           NaN           NaN       9184          19538   \n",
       "mean       13.364868    712.701069      0.056865        NaN            NaN   \n",
       "std         6.715654     36.058933      0.243434        NaN            NaN   \n",
       "min         0.000000    610.000000      0.000000        NaN            NaN   \n",
       "25%         8.200000    685.000000      0.000000        NaN            NaN   \n",
       "50%        13.470000    710.000000      0.000000        NaN            NaN   \n",
       "75%        18.650000    740.000000      0.000000        NaN            NaN   \n",
       "max        29.990000    825.000000      5.000000        NaN            NaN   \n",
       "\n",
       "       verification_status addr_state    annual_inc      issue_yr  \n",
       "count                40869      40869  4.086900e+04  40869.000000  \n",
       "unique                   3         50           NaN           NaN  \n",
       "top           Not Verified         CA           NaN           NaN  \n",
       "freq                 18207       7164           NaN           NaN  \n",
       "mean                   NaN        NaN  6.966786e+04   2010.211603  \n",
       "std                    NaN        NaN  6.477603e+04      0.972184  \n",
       "min                    NaN        NaN  1.896000e+03   2007.000000  \n",
       "25%                    NaN        NaN  4.100000e+04   2010.000000  \n",
       "50%                    NaN        NaN  6.000000e+04   2011.000000  \n",
       "75%                    NaN        NaN  8.300400e+04   2011.000000  \n",
       "max                    NaN        NaN  6.000000e+06   2011.000000  "
      ]
     },
     "execution_count": 16,
     "metadata": {},
     "output_type": "execute_result"
    }
   ],
   "source": [
    "df.describe(include = \"all\")"
   ]
  },
  {
   "cell_type": "code",
   "execution_count": 17,
   "id": "e8c24071",
   "metadata": {},
   "outputs": [
    {
     "data": {
      "text/plain": [
       "Index(['defaulted', 'loan_amnt', 'term', 'int_rate', 'sub_grade', 'dti',\n",
       "       'fico', 'pub_rec', 'emp_length', 'home_ownership',\n",
       "       'verification_status', 'addr_state', 'annual_inc', 'issue_yr'],\n",
       "      dtype='object')"
      ]
     },
     "execution_count": 17,
     "metadata": {},
     "output_type": "execute_result"
    }
   ],
   "source": [
    "df.columns"
   ]
  },
  {
   "cell_type": "markdown",
   "id": "cedf1ecf",
   "metadata": {},
   "source": [
    "## Descriptive analysis and visualisation of the variables"
   ]
  },
  {
   "cell_type": "markdown",
   "id": "0ec1f72e",
   "metadata": {},
   "source": [
    "###  Loan characteristics"
   ]
  },
  {
   "cell_type": "markdown",
   "id": "7e7c81d0",
   "metadata": {},
   "source": [
    "* 'defaulted' (Y/N)\n",
    "* 'loan_amnt'\n",
    "* 'term' (36 or 60 months)\n",
    "* 'issue_d' \n",
    "* 'int_rate'"
   ]
  },
  {
   "cell_type": "code",
   "execution_count": 19,
   "id": "4e22c46e",
   "metadata": {},
   "outputs": [
    {
     "data": {
      "text/plain": [
       "False    84.910323\n",
       "True     15.089677\n",
       "Name: defaulted, dtype: float64"
      ]
     },
     "execution_count": 19,
     "metadata": {},
     "output_type": "execute_result"
    }
   ],
   "source": [
    "(df['defaulted'].value_counts() / df['defaulted'].count()) * 100"
   ]
  },
  {
   "cell_type": "code",
   "execution_count": 21,
   "id": "4f572a4c",
   "metadata": {},
   "outputs": [
    {
     "data": {
      "text/plain": [
       "count    40869.000000\n",
       "mean     11071.230639\n",
       "std       7351.270131\n",
       "min        500.000000\n",
       "25%       5300.000000\n",
       "50%       9750.000000\n",
       "75%      15000.000000\n",
       "max      35000.000000\n",
       "Name: loan_amnt, dtype: float64"
      ]
     },
     "execution_count": 21,
     "metadata": {},
     "output_type": "execute_result"
    }
   ],
   "source": [
    "# make a histogram of loan amount?\n",
    "df['loan_amnt'].describe()"
   ]
  },
  {
   "cell_type": "code",
   "execution_count": 77,
   "id": "4772047c",
   "metadata": {},
   "outputs": [
    {
     "data": {
      "image/png": "[encoded data removed]",
      "text/plain": [
       "<Figure size 360x360 with 1 Axes>"
      ]
     },
     "metadata": {
      "needs_background": "light"
     },
     "output_type": "display_data"
    },
    {
     "data": {
      "text/plain": [
       "<Figure size 432x288 with 0 Axes>"
      ]
     },
     "metadata": {},
     "output_type": "display_data"
    }
   ],
   "source": [
    "# Display a Seaborn distplot of the loan amounts\n",
    "sns.displot(df['loan_amnt']).set(title='Loan amounts in the dataset')\n",
    "# Label the axes\n",
    "plt.xlabel('Loan amount (USD)')\n",
    "\n",
    "plt.show() \n",
    "# Clear the distplot \n",
    "plt.clf() "
   ]
  },
  {
   "cell_type": "code",
   "execution_count": 40,
   "id": "dcd5122e",
   "metadata": {},
   "outputs": [
    {
     "data": {
      "image/png": "[encoded data removed]",
      "text/plain": [
       "<Figure size 360x360 with 1 Axes>"
      ]
     },
     "metadata": {
      "needs_background": "light"
     },
     "output_type": "display_data"
    },
    {
     "data": {
      "text/plain": [
       "<Figure size 432x288 with 0 Axes>"
      ]
     },
     "metadata": {},
     "output_type": "display_data"
    }
   ],
   "source": [
    "# Display a Seaborn distplot of the loan amounts\n",
    "sns.displot(df['int_rate']).set(title='Loan interest rates in the dataset')\n",
    "# Label the axes\n",
    "plt.xlabel('Interest rate (%)')\n",
    "\n",
    "plt.show() \n",
    "# Clear the distplot \n",
    "plt.clf() "
   ]
  },
  {
   "cell_type": "code",
   "execution_count": 68,
   "id": "dd3a47ef",
   "metadata": {},
   "outputs": [
    {
     "data": {
      "text/plain": [
       "36 months    0.750447\n",
       "60 months    0.249553\n",
       "Name: term, dtype: float64"
      ]
     },
     "execution_count": 68,
     "metadata": {},
     "output_type": "execute_result"
    }
   ],
   "source": [
    "# 75% loans are 36 months (i.e. 3 years, otherwise 5 years)\n",
    "df['term'].value_counts() / df['term'].count()"
   ]
  },
  {
   "cell_type": "code",
   "execution_count": 70,
   "id": "b5c812a9",
   "metadata": {},
   "outputs": [
    {
     "data": {
      "text/plain": [
       "2011    0.500061\n",
       "2010    0.298123\n",
       "2009    0.129218\n",
       "2008    0.058553\n",
       "2007    0.014045\n",
       "Name: issue_yr, dtype: float64"
      ]
     },
     "execution_count": 70,
     "metadata": {},
     "output_type": "execute_result"
    }
   ],
   "source": [
    "# half the loans in the dataset were originated in 2011\n",
    "df['issue_yr'].value_counts() / len(df['issue_yr'])"
   ]
  },
  {
   "cell_type": "code",
   "execution_count": 71,
   "id": "c292eb07",
   "metadata": {},
   "outputs": [
    {
     "data": {
      "text/plain": [
       "issue_yr\n",
       "2007    0.270035\n",
       "2008    0.207271\n",
       "2009    0.136906\n",
       "2010    0.136819\n",
       "2011    0.152958\n",
       "Name: defaulted, dtype: float64"
      ]
     },
     "execution_count": 71,
     "metadata": {},
     "output_type": "execute_result"
    }
   ],
   "source": [
    "# use groupby to show proportion of defaulted by issue year\n",
    "df.groupby(df['issue_yr'])['defaulted'].mean()"
   ]
  },
  {
   "cell_type": "markdown",
   "id": "de64c017",
   "metadata": {},
   "source": [
    "###  Credit risk indicators"
   ]
  },
  {
   "cell_type": "markdown",
   "id": "dfe2efa1",
   "metadata": {},
   "source": [
    "* 'sub_grade'\n",
    "* 'dti'\n",
    "* 'fico'\n",
    "* 'pub_rec'"
   ]
  },
  {
   "cell_type": "code",
   "execution_count": 73,
   "id": "9cd014f0",
   "metadata": {},
   "outputs": [
    {
     "data": {
      "text/plain": [
       "sub_grade\n",
       "A1    0.022770\n",
       "A2    0.048966\n",
       "A3    0.051429\n",
       "A4    0.059659\n",
       "A5    0.078410\n",
       "B1    0.093557\n",
       "B2    0.109847\n",
       "B3    0.119205\n",
       "B4    0.135946\n",
       "B5    0.135793\n",
       "C1    0.157654\n",
       "C2    0.166107\n",
       "C3    0.182614\n",
       "C4    0.175492\n",
       "C5    0.180354\n",
       "D1    0.190751\n",
       "D2    0.214336\n",
       "D3    0.226624\n",
       "D4    0.230769\n",
       "D5    0.252058\n",
       "E1    0.269637\n",
       "E2    0.262533\n",
       "E3    0.239370\n",
       "E4    0.295880\n",
       "E5    0.255717\n",
       "F1    0.295699\n",
       "F2    0.288591\n",
       "F3    0.301310\n",
       "F4    0.375635\n",
       "F5    0.462585\n",
       "G1    0.316176\n",
       "G2    0.358491\n",
       "G3    0.376623\n",
       "G4    0.333333\n",
       "G5    0.329412\n",
       "Name: defaulted, dtype: float64"
      ]
     },
     "execution_count": 73,
     "metadata": {},
     "output_type": "execute_result"
    }
   ],
   "source": [
    "# proportion of defaulted by LC subgrade\n",
    "df.groupby(df['sub_grade'])['defaulted'].mean()"
   ]
  },
  {
   "cell_type": "code",
   "execution_count": 74,
   "id": "bf13ced7",
   "metadata": {},
   "outputs": [
    {
     "data": {
      "image/png": "[encoded data removed]",
      "text/plain": [
       "<Figure size 360x360 with 1 Axes>"
      ]
     },
     "metadata": {
      "needs_background": "light"
     },
     "output_type": "display_data"
    },
    {
     "data": {
      "text/plain": [
       "<Figure size 432x288 with 0 Axes>"
      ]
     },
     "metadata": {},
     "output_type": "display_data"
    }
   ],
   "source": [
    "# Display a Seaborn distplot of the loan amounts\n",
    "sns.displot(df['dti']).set(title='debt-to-income distribution in the dataset')\n",
    "# Label the axes\n",
    "plt.xlabel('DTI ratio (lower is better)')\n",
    "\n",
    "plt.show() \n",
    "# Clear the distplot \n",
    "plt.clf() "
   ]
  },
  {
   "cell_type": "code",
   "execution_count": null,
   "id": "f3d80bfc",
   "metadata": {},
   "outputs": [],
   "source": []
  },
  {
   "cell_type": "code",
   "execution_count": 80,
   "id": "7ac5fa63",
   "metadata": {},
   "outputs": [
    {
     "data": {
      "text/plain": [
       "0    0.945386\n",
       "1    0.052803\n",
       "2    0.001468\n",
       "3    0.000269\n",
       "4    0.000049\n",
       "5    0.000024\n",
       "Name: pub_rec, dtype: float64"
      ]
     },
     "execution_count": 80,
     "metadata": {},
     "output_type": "execute_result"
    }
   ],
   "source": [
    "# vast majority of borrowers have no public derogatory terms\n",
    "df['pub_rec'].value_counts() / len(df['pub_rec'])"
   ]
  },
  {
   "cell_type": "code",
   "execution_count": 81,
   "id": "e67fdfb5",
   "metadata": {},
   "outputs": [
    {
     "data": {
      "text/plain": [
       "pub_rec\n",
       "0    0.145974\n",
       "1    0.238647\n",
       "2    0.200000\n",
       "3    0.000000\n",
       "4    0.000000\n",
       "5    0.000000\n",
       "Name: defaulted, dtype: float64"
      ]
     },
     "execution_count": 81,
     "metadata": {},
     "output_type": "execute_result"
    }
   ],
   "source": [
    "# proportion of defaulted by public derogatory terms\n",
    "# considering the average default rate is 15% in the dataset, there seems to be some explanatory power from borrowers \n",
    "# with one or more public derogatory terms\n",
    "df.groupby(df['pub_rec'])['defaulted'].mean()"
   ]
  },
  {
   "cell_type": "markdown",
   "id": "1eebdf4f",
   "metadata": {},
   "source": [
    "###  Demographic variables"
   ]
  },
  {
   "cell_type": "markdown",
   "id": "dd2c88f9",
   "metadata": {},
   "source": [
    "* 'emp_length'\n",
    "* 'home_ownership'\n",
    "* 'verification_status'\n",
    "* 'addr_state'\n",
    "* 'annual_inc'"
   ]
  },
  {
   "cell_type": "code",
   "execution_count": 18,
   "id": "19fee991",
   "metadata": {},
   "outputs": [
    {
     "data": {
      "text/plain": [
       "array(['Verified', 'Source Verified', 'Not Verified'], dtype=object)"
      ]
     },
     "execution_count": 18,
     "metadata": {},
     "output_type": "execute_result"
    }
   ],
   "source": [
    "# do a bar chart of 'verification_status'\n",
    "# maybe do bar charts showing, of those who repaid, and of those charged-off, showing verification status proprortions\n",
    "df['verification_status'].unique()"
   ]
  },
  {
   "cell_type": "code",
   "execution_count": 50,
   "id": "6cd6488e",
   "metadata": {},
   "outputs": [
    {
     "data": {
      "text/plain": [
       "Not Verified       18207\n",
       "Verified           12697\n",
       "Source Verified     9965\n",
       "Name: verification_status, dtype: int64"
      ]
     },
     "execution_count": 50,
     "metadata": {},
     "output_type": "execute_result"
    }
   ],
   "source": [
    "df['verification_status'].value_counts()\n",
    "# df.groupby(['verification_status'])"
   ]
  },
  {
   "cell_type": "code",
   "execution_count": 84,
   "id": "185a3a51",
   "metadata": {},
   "outputs": [
    {
     "data": {
      "text/html": [
       "<div>\n",
       "<style scoped>\n",
       "    .dataframe tbody tr th:only-of-type {\n",
       "        vertical-align: middle;\n",
       "    }\n",
       "\n",
       "    .dataframe tbody tr th {\n",
       "        vertical-align: top;\n",
       "    }\n",
       "\n",
       "    .dataframe thead th {\n",
       "        text-align: right;\n",
       "    }\n",
       "</style>\n",
       "<table border=\"1\" class=\"dataframe\">\n",
       "  <thead>\n",
       "    <tr style=\"text-align: right;\">\n",
       "      <th></th>\n",
       "      <th>defaulted</th>\n",
       "      <th>loan_amnt</th>\n",
       "      <th>term</th>\n",
       "      <th>int_rate</th>\n",
       "      <th>sub_grade</th>\n",
       "      <th>dti</th>\n",
       "      <th>fico</th>\n",
       "      <th>pub_rec</th>\n",
       "      <th>emp_length</th>\n",
       "      <th>home_ownership</th>\n",
       "      <th>verification_status</th>\n",
       "      <th>addr_state</th>\n",
       "      <th>annual_inc</th>\n",
       "      <th>issue_yr</th>\n",
       "    </tr>\n",
       "  </thead>\n",
       "  <tbody>\n",
       "    <tr>\n",
       "      <th>0</th>\n",
       "      <td>False</td>\n",
       "      <td>5000.0</td>\n",
       "      <td>36 months</td>\n",
       "      <td>10.65</td>\n",
       "      <td>B2</td>\n",
       "      <td>27.65</td>\n",
       "      <td>735.0</td>\n",
       "      <td>0</td>\n",
       "      <td>10+ years</td>\n",
       "      <td>RENT</td>\n",
       "      <td>Verified</td>\n",
       "      <td>AZ</td>\n",
       "      <td>24000</td>\n",
       "      <td>2011</td>\n",
       "    </tr>\n",
       "    <tr>\n",
       "      <th>1</th>\n",
       "      <td>True</td>\n",
       "      <td>2500.0</td>\n",
       "      <td>60 months</td>\n",
       "      <td>15.27</td>\n",
       "      <td>C4</td>\n",
       "      <td>1.00</td>\n",
       "      <td>740.0</td>\n",
       "      <td>0</td>\n",
       "      <td>&lt; 1 year</td>\n",
       "      <td>RENT</td>\n",
       "      <td>Source Verified</td>\n",
       "      <td>GA</td>\n",
       "      <td>30000</td>\n",
       "      <td>2011</td>\n",
       "    </tr>\n",
       "    <tr>\n",
       "      <th>2</th>\n",
       "      <td>False</td>\n",
       "      <td>2400.0</td>\n",
       "      <td>36 months</td>\n",
       "      <td>15.96</td>\n",
       "      <td>C5</td>\n",
       "      <td>8.72</td>\n",
       "      <td>735.0</td>\n",
       "      <td>0</td>\n",
       "      <td>10+ years</td>\n",
       "      <td>RENT</td>\n",
       "      <td>Not Verified</td>\n",
       "      <td>IL</td>\n",
       "      <td>12252</td>\n",
       "      <td>2011</td>\n",
       "    </tr>\n",
       "    <tr>\n",
       "      <th>3</th>\n",
       "      <td>False</td>\n",
       "      <td>10000.0</td>\n",
       "      <td>36 months</td>\n",
       "      <td>13.49</td>\n",
       "      <td>C1</td>\n",
       "      <td>20.00</td>\n",
       "      <td>690.0</td>\n",
       "      <td>0</td>\n",
       "      <td>10+ years</td>\n",
       "      <td>RENT</td>\n",
       "      <td>Source Verified</td>\n",
       "      <td>CA</td>\n",
       "      <td>49200</td>\n",
       "      <td>2011</td>\n",
       "    </tr>\n",
       "    <tr>\n",
       "      <th>4</th>\n",
       "      <td>False</td>\n",
       "      <td>5000.0</td>\n",
       "      <td>36 months</td>\n",
       "      <td>7.90</td>\n",
       "      <td>A4</td>\n",
       "      <td>11.20</td>\n",
       "      <td>730.0</td>\n",
       "      <td>0</td>\n",
       "      <td>3 years</td>\n",
       "      <td>RENT</td>\n",
       "      <td>Source Verified</td>\n",
       "      <td>AZ</td>\n",
       "      <td>36000</td>\n",
       "      <td>2011</td>\n",
       "    </tr>\n",
       "    <tr>\n",
       "      <th>...</th>\n",
       "      <td>...</td>\n",
       "      <td>...</td>\n",
       "      <td>...</td>\n",
       "      <td>...</td>\n",
       "      <td>...</td>\n",
       "      <td>...</td>\n",
       "      <td>...</td>\n",
       "      <td>...</td>\n",
       "      <td>...</td>\n",
       "      <td>...</td>\n",
       "      <td>...</td>\n",
       "      <td>...</td>\n",
       "      <td>...</td>\n",
       "      <td>...</td>\n",
       "    </tr>\n",
       "    <tr>\n",
       "      <th>40864</th>\n",
       "      <td>False</td>\n",
       "      <td>5350.0</td>\n",
       "      <td>36 months</td>\n",
       "      <td>13.12</td>\n",
       "      <td>D5</td>\n",
       "      <td>15.00</td>\n",
       "      <td>660.0</td>\n",
       "      <td>0</td>\n",
       "      <td>1 year</td>\n",
       "      <td>OWN</td>\n",
       "      <td>Not Verified</td>\n",
       "      <td>NJ</td>\n",
       "      <td>4000</td>\n",
       "      <td>2007</td>\n",
       "    </tr>\n",
       "    <tr>\n",
       "      <th>40865</th>\n",
       "      <td>False</td>\n",
       "      <td>10000.0</td>\n",
       "      <td>36 months</td>\n",
       "      <td>14.70</td>\n",
       "      <td>E5</td>\n",
       "      <td>7.22</td>\n",
       "      <td>650.0</td>\n",
       "      <td>0</td>\n",
       "      <td>1 year</td>\n",
       "      <td>RENT</td>\n",
       "      <td>Not Verified</td>\n",
       "      <td>GA</td>\n",
       "      <td>50000</td>\n",
       "      <td>2007</td>\n",
       "    </tr>\n",
       "    <tr>\n",
       "      <th>40866</th>\n",
       "      <td>False</td>\n",
       "      <td>2000.0</td>\n",
       "      <td>36 months</td>\n",
       "      <td>7.12</td>\n",
       "      <td>A1</td>\n",
       "      <td>5.60</td>\n",
       "      <td>800.0</td>\n",
       "      <td>0</td>\n",
       "      <td>7 years</td>\n",
       "      <td>MORTGAGE</td>\n",
       "      <td>Not Verified</td>\n",
       "      <td>CT</td>\n",
       "      <td>150000</td>\n",
       "      <td>2007</td>\n",
       "    </tr>\n",
       "    <tr>\n",
       "      <th>40867</th>\n",
       "      <td>False</td>\n",
       "      <td>6000.0</td>\n",
       "      <td>36 months</td>\n",
       "      <td>10.59</td>\n",
       "      <td>C2</td>\n",
       "      <td>12.90</td>\n",
       "      <td>695.0</td>\n",
       "      <td>0</td>\n",
       "      <td>&lt; 1 year</td>\n",
       "      <td>RENT</td>\n",
       "      <td>Not Verified</td>\n",
       "      <td>CT</td>\n",
       "      <td>20000</td>\n",
       "      <td>2007</td>\n",
       "    </tr>\n",
       "    <tr>\n",
       "      <th>40868</th>\n",
       "      <td>False</td>\n",
       "      <td>4400.0</td>\n",
       "      <td>36 months</td>\n",
       "      <td>9.64</td>\n",
       "      <td>B4</td>\n",
       "      <td>3.72</td>\n",
       "      <td>695.0</td>\n",
       "      <td>0</td>\n",
       "      <td>2 years</td>\n",
       "      <td>MORTGAGE</td>\n",
       "      <td>Not Verified</td>\n",
       "      <td>NJ</td>\n",
       "      <td>30000</td>\n",
       "      <td>2007</td>\n",
       "    </tr>\n",
       "  </tbody>\n",
       "</table>\n",
       "<p>40869 rows × 14 columns</p>\n",
       "</div>"
      ],
      "text/plain": [
       "       defaulted  loan_amnt       term  int_rate sub_grade    dti   fico  \\\n",
       "0          False     5000.0  36 months     10.65        B2  27.65  735.0   \n",
       "1           True     2500.0  60 months     15.27        C4   1.00  740.0   \n",
       "2          False     2400.0  36 months     15.96        C5   8.72  735.0   \n",
       "3          False    10000.0  36 months     13.49        C1  20.00  690.0   \n",
       "4          False     5000.0  36 months      7.90        A4  11.20  730.0   \n",
       "...          ...        ...        ...       ...       ...    ...    ...   \n",
       "40864      False     5350.0  36 months     13.12        D5  15.00  660.0   \n",
       "40865      False    10000.0  36 months     14.70        E5   7.22  650.0   \n",
       "40866      False     2000.0  36 months      7.12        A1   5.60  800.0   \n",
       "40867      False     6000.0  36 months     10.59        C2  12.90  695.0   \n",
       "40868      False     4400.0  36 months      9.64        B4   3.72  695.0   \n",
       "\n",
       "       pub_rec emp_length home_ownership verification_status addr_state  \\\n",
       "0            0  10+ years           RENT            Verified         AZ   \n",
       "1            0   < 1 year           RENT     Source Verified         GA   \n",
       "2            0  10+ years           RENT        Not Verified         IL   \n",
       "3            0  10+ years           RENT     Source Verified         CA   \n",
       "4            0    3 years           RENT     Source Verified         AZ   \n",
       "...        ...        ...            ...                 ...        ...   \n",
       "40864        0     1 year            OWN        Not Verified         NJ   \n",
       "40865        0     1 year           RENT        Not Verified         GA   \n",
       "40866        0    7 years       MORTGAGE        Not Verified         CT   \n",
       "40867        0   < 1 year           RENT        Not Verified         CT   \n",
       "40868        0    2 years       MORTGAGE        Not Verified         NJ   \n",
       "\n",
       "       annual_inc  issue_yr  \n",
       "0           24000      2011  \n",
       "1           30000      2011  \n",
       "2           12252      2011  \n",
       "3           49200      2011  \n",
       "4           36000      2011  \n",
       "...           ...       ...  \n",
       "40864        4000      2007  \n",
       "40865       50000      2007  \n",
       "40866      150000      2007  \n",
       "40867       20000      2007  \n",
       "40868       30000      2007  \n",
       "\n",
       "[40869 rows x 14 columns]"
      ]
     },
     "execution_count": 84,
     "metadata": {},
     "output_type": "execute_result"
    }
   ],
   "source": [
    "df\n",
    "#ax = sns.babrplot(x=\"['verification_status']\", hue=\"defaulted\", data=df)"
   ]
  },
  {
   "cell_type": "code",
   "execution_count": 76,
   "id": "509df89f",
   "metadata": {},
   "outputs": [
    {
     "data": {
      "image/png": "[encoded data removed]",
      "text/plain": [
       "<Figure size 360x360 with 1 Axes>"
      ]
     },
     "metadata": {
      "needs_background": "light"
     },
     "output_type": "display_data"
    },
    {
     "data": {
      "text/plain": [
       "<Figure size 432x288 with 0 Axes>"
      ]
     },
     "metadata": {},
     "output_type": "display_data"
    }
   ],
   "source": [
    "# Display a Seaborn distplot of income\n",
    "sns.displot(df['annual_inc']).set(title='Annual income distribution in the dataset')\n",
    "# Label the axes\n",
    "plt.xlabel('Annual income (USD)')\n",
    "\n",
    "plt.show() \n",
    "# Clear the distplot \n",
    "plt.clf() "
   ]
  },
  {
   "cell_type": "code",
   "execution_count": 94,
   "id": "3a572628",
   "metadata": {},
   "outputs": [
    {
     "name": "stderr",
     "output_type": "stream",
     "text": [
      "<ipython-input-94-1eb59686c95e>:2: UserWarning: Boolean Series key will be reindexed to match DataFrame index.\n",
      "  df[df['annual_inc'] >= 1000000][df['verification_status'] != 'Verified'].count()\n"
     ]
    },
    {
     "data": {
      "text/plain": [
       "defaulted              13\n",
       "loan_amnt              13\n",
       "term                   13\n",
       "int_rate               13\n",
       "sub_grade              13\n",
       "dti                    13\n",
       "fico                   13\n",
       "pub_rec                13\n",
       "emp_length             13\n",
       "home_ownership         13\n",
       "verification_status    13\n",
       "addr_state             13\n",
       "annual_inc             13\n",
       "issue_yr               13\n",
       "dtype: int64"
      ]
     },
     "execution_count": 94,
     "metadata": {},
     "output_type": "execute_result"
    }
   ],
   "source": [
    "# attempt to filter the data to exclude unverified high income data, which is skewing the data\n",
    "df[df['annual_inc'] >= 1000000][df['verification_status'] != 'Verified'].count()"
   ]
  },
  {
   "cell_type": "code",
   "execution_count": null,
   "id": "5554abce",
   "metadata": {},
   "outputs": [],
   "source": []
  }
 ],
 "metadata": {
  "kernelspec": {
   "display_name": "Python 3",
   "language": "python",
   "name": "python3"
  },
  "language_info": {
   "codemirror_mode": {
    "name": "ipython",
    "version": 3
   },
   "file_extension": ".py",
   "mimetype": "text/x-python",
   "name": "python",
   "nbconvert_exporter": "python",
   "pygments_lexer": "ipython3",
   "version": "3.8.8"
  },
  "varInspector": {
   "cols": {
    "lenName": 16,
    "lenType": 16,
    "lenVar": 40
   },
   "kernels_config": {
    "python": {
     "delete_cmd_postfix": "",
     "delete_cmd_prefix": "del ",
     "library": "var_list.py",
     "varRefreshCmd": "print(var_dic_list())"
    },
    "r": {
     "delete_cmd_postfix": ") ",
     "delete_cmd_prefix": "rm(",
     "library": "var_list.r",
     "varRefreshCmd": "cat(var_dic_list()) "
    }
   },
   "types_to_exclude": [
    "module",
    "function",
    "builtin_function_or_method",
    "instance",
    "_Feature"
   ],
   "window_display": false
  }
 },
 "nbformat": 4,
 "nbformat_minor": 5
}
