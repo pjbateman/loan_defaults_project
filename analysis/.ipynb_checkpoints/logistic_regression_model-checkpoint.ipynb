{
 "cells": [
  {
   "cell_type": "code",
   "execution_count": 34,
   "id": "526c1aa0",
   "metadata": {},
   "outputs": [],
   "source": [
    "import pandas as pd\n",
    "import pandas_profiling as pp\n",
    "from sklearn.model_selection import train_test_split # to make the test-train split of the data\n",
    "from sklearn.linear_model import LogisticRegression # for the Logistic Regression model\n",
    "from sklearn.metrics import roc_auc_score # to calculate an ROC value of our model"
   ]
  },
  {
   "cell_type": "code",
   "execution_count": 35,
   "id": "bbf9ae32",
   "metadata": {},
   "outputs": [],
   "source": [
    "# read in the clean data\n",
    "loans_data_clean = pd.read_csv(\"../data/clean_data/lending_club_loans_cleaned.csv\")\n",
    "# make a working copy\n",
    "df = loans_data_clean.copy()"
   ]
  },
  {
   "cell_type": "code",
   "execution_count": 36,
   "id": "1c255627",
   "metadata": {},
   "outputs": [
    {
     "data": {
      "text/plain": [
       "(40869, 14)"
      ]
     },
     "execution_count": 36,
     "metadata": {},
     "output_type": "execute_result"
    }
   ],
   "source": [
    "df.shape"
   ]
  },
  {
   "cell_type": "code",
   "execution_count": 37,
   "id": "66f5d8e1",
   "metadata": {
    "scrolled": true
   },
   "outputs": [],
   "source": [
    "# pp.ProfileReport(df)"
   ]
  },
  {
   "cell_type": "code",
   "execution_count": 38,
   "id": "2b60e9c1",
   "metadata": {},
   "outputs": [],
   "source": [
    "# decided to drop 'int_rate' as it is highly-correlated with fico\n",
    "# decided to drop 'sub_grade' as it will create many dummy variables, and it is equivalent to fico\n",
    "df.drop(['int_rate'], axis = 1, inplace = True)\n",
    "df.drop(['sub_grade'], axis = 1, inplace = True)"
   ]
  },
  {
   "cell_type": "code",
   "execution_count": 39,
   "id": "8312e3a1",
   "metadata": {},
   "outputs": [
    {
     "data": {
      "text/plain": [
       "Index(['defaulted', 'loan_amnt', 'term', 'dti', 'fico', 'pub_rec',\n",
       "       'emp_length', 'home_ownership', 'verification_status', 'addr_state',\n",
       "       'annual_inc', 'issue_yr'],\n",
       "      dtype='object')"
      ]
     },
     "execution_count": 39,
     "metadata": {},
     "output_type": "execute_result"
    }
   ],
   "source": [
    "df.columns"
   ]
  },
  {
   "cell_type": "code",
   "execution_count": 40,
   "id": "b31b2718",
   "metadata": {},
   "outputs": [
    {
     "data": {
      "text/html": [
       "<div>\n",
       "<style scoped>\n",
       "    .dataframe tbody tr th:only-of-type {\n",
       "        vertical-align: middle;\n",
       "    }\n",
       "\n",
       "    .dataframe tbody tr th {\n",
       "        vertical-align: top;\n",
       "    }\n",
       "\n",
       "    .dataframe thead th {\n",
       "        text-align: right;\n",
       "    }\n",
       "</style>\n",
       "<table border=\"1\" class=\"dataframe\">\n",
       "  <thead>\n",
       "    <tr style=\"text-align: right;\">\n",
       "      <th></th>\n",
       "      <th>defaulted</th>\n",
       "      <th>loan_amnt</th>\n",
       "      <th>dti</th>\n",
       "      <th>fico</th>\n",
       "      <th>pub_rec</th>\n",
       "      <th>annual_inc</th>\n",
       "      <th>issue_yr</th>\n",
       "      <th>term_60 months</th>\n",
       "      <th>emp_length_10+ years</th>\n",
       "      <th>emp_length_2 years</th>\n",
       "      <th>...</th>\n",
       "      <th>addr_state_SD</th>\n",
       "      <th>addr_state_TN</th>\n",
       "      <th>addr_state_TX</th>\n",
       "      <th>addr_state_UT</th>\n",
       "      <th>addr_state_VA</th>\n",
       "      <th>addr_state_VT</th>\n",
       "      <th>addr_state_WA</th>\n",
       "      <th>addr_state_WI</th>\n",
       "      <th>addr_state_WV</th>\n",
       "      <th>addr_state_WY</th>\n",
       "    </tr>\n",
       "  </thead>\n",
       "  <tbody>\n",
       "    <tr>\n",
       "      <th>0</th>\n",
       "      <td>False</td>\n",
       "      <td>5000.0</td>\n",
       "      <td>27.65</td>\n",
       "      <td>735.0</td>\n",
       "      <td>0</td>\n",
       "      <td>24000</td>\n",
       "      <td>2011</td>\n",
       "      <td>0</td>\n",
       "      <td>1</td>\n",
       "      <td>0</td>\n",
       "      <td>...</td>\n",
       "      <td>0</td>\n",
       "      <td>0</td>\n",
       "      <td>0</td>\n",
       "      <td>0</td>\n",
       "      <td>0</td>\n",
       "      <td>0</td>\n",
       "      <td>0</td>\n",
       "      <td>0</td>\n",
       "      <td>0</td>\n",
       "      <td>0</td>\n",
       "    </tr>\n",
       "    <tr>\n",
       "      <th>1</th>\n",
       "      <td>True</td>\n",
       "      <td>2500.0</td>\n",
       "      <td>1.00</td>\n",
       "      <td>740.0</td>\n",
       "      <td>0</td>\n",
       "      <td>30000</td>\n",
       "      <td>2011</td>\n",
       "      <td>1</td>\n",
       "      <td>0</td>\n",
       "      <td>0</td>\n",
       "      <td>...</td>\n",
       "      <td>0</td>\n",
       "      <td>0</td>\n",
       "      <td>0</td>\n",
       "      <td>0</td>\n",
       "      <td>0</td>\n",
       "      <td>0</td>\n",
       "      <td>0</td>\n",
       "      <td>0</td>\n",
       "      <td>0</td>\n",
       "      <td>0</td>\n",
       "    </tr>\n",
       "    <tr>\n",
       "      <th>2</th>\n",
       "      <td>False</td>\n",
       "      <td>2400.0</td>\n",
       "      <td>8.72</td>\n",
       "      <td>735.0</td>\n",
       "      <td>0</td>\n",
       "      <td>12252</td>\n",
       "      <td>2011</td>\n",
       "      <td>0</td>\n",
       "      <td>1</td>\n",
       "      <td>0</td>\n",
       "      <td>...</td>\n",
       "      <td>0</td>\n",
       "      <td>0</td>\n",
       "      <td>0</td>\n",
       "      <td>0</td>\n",
       "      <td>0</td>\n",
       "      <td>0</td>\n",
       "      <td>0</td>\n",
       "      <td>0</td>\n",
       "      <td>0</td>\n",
       "      <td>0</td>\n",
       "    </tr>\n",
       "    <tr>\n",
       "      <th>3</th>\n",
       "      <td>False</td>\n",
       "      <td>10000.0</td>\n",
       "      <td>20.00</td>\n",
       "      <td>690.0</td>\n",
       "      <td>0</td>\n",
       "      <td>49200</td>\n",
       "      <td>2011</td>\n",
       "      <td>0</td>\n",
       "      <td>1</td>\n",
       "      <td>0</td>\n",
       "      <td>...</td>\n",
       "      <td>0</td>\n",
       "      <td>0</td>\n",
       "      <td>0</td>\n",
       "      <td>0</td>\n",
       "      <td>0</td>\n",
       "      <td>0</td>\n",
       "      <td>0</td>\n",
       "      <td>0</td>\n",
       "      <td>0</td>\n",
       "      <td>0</td>\n",
       "    </tr>\n",
       "    <tr>\n",
       "      <th>4</th>\n",
       "      <td>False</td>\n",
       "      <td>5000.0</td>\n",
       "      <td>11.20</td>\n",
       "      <td>730.0</td>\n",
       "      <td>0</td>\n",
       "      <td>36000</td>\n",
       "      <td>2011</td>\n",
       "      <td>0</td>\n",
       "      <td>0</td>\n",
       "      <td>0</td>\n",
       "      <td>...</td>\n",
       "      <td>0</td>\n",
       "      <td>0</td>\n",
       "      <td>0</td>\n",
       "      <td>0</td>\n",
       "      <td>0</td>\n",
       "      <td>0</td>\n",
       "      <td>0</td>\n",
       "      <td>0</td>\n",
       "      <td>0</td>\n",
       "      <td>0</td>\n",
       "    </tr>\n",
       "  </tbody>\n",
       "</table>\n",
       "<p>5 rows × 73 columns</p>\n",
       "</div>"
      ],
      "text/plain": [
       "   defaulted  loan_amnt    dti   fico  pub_rec  annual_inc  issue_yr  \\\n",
       "0      False     5000.0  27.65  735.0        0       24000      2011   \n",
       "1       True     2500.0   1.00  740.0        0       30000      2011   \n",
       "2      False     2400.0   8.72  735.0        0       12252      2011   \n",
       "3      False    10000.0  20.00  690.0        0       49200      2011   \n",
       "4      False     5000.0  11.20  730.0        0       36000      2011   \n",
       "\n",
       "   term_60 months  emp_length_10+ years  emp_length_2 years  ...  \\\n",
       "0               0                     1                   0  ...   \n",
       "1               1                     0                   0  ...   \n",
       "2               0                     1                   0  ...   \n",
       "3               0                     1                   0  ...   \n",
       "4               0                     0                   0  ...   \n",
       "\n",
       "   addr_state_SD  addr_state_TN  addr_state_TX  addr_state_UT  addr_state_VA  \\\n",
       "0              0              0              0              0              0   \n",
       "1              0              0              0              0              0   \n",
       "2              0              0              0              0              0   \n",
       "3              0              0              0              0              0   \n",
       "4              0              0              0              0              0   \n",
       "\n",
       "   addr_state_VT  addr_state_WA  addr_state_WI  addr_state_WV  addr_state_WY  \n",
       "0              0              0              0              0              0  \n",
       "1              0              0              0              0              0  \n",
       "2              0              0              0              0              0  \n",
       "3              0              0              0              0              0  \n",
       "4              0              0              0              0              0  \n",
       "\n",
       "[5 rows x 73 columns]"
      ]
     },
     "execution_count": 40,
     "metadata": {},
     "output_type": "execute_result"
    }
   ],
   "source": [
    "df = pd.get_dummies(df, drop_first = True)\n",
    "\n",
    "df.head()"
   ]
  },
  {
   "cell_type": "code",
   "execution_count": 41,
   "id": "499249d5",
   "metadata": {},
   "outputs": [],
   "source": [
    "# split our data into the predictor and outcome variables\n",
    "loans_predictors = df.drop(columns = \"defaulted\")\n",
    "loans_response = df[\"defaulted\"]"
   ]
  },
  {
   "cell_type": "code",
   "execution_count": 42,
   "id": "441c94e6",
   "metadata": {},
   "outputs": [],
   "source": [
    "# we are interested in a prediction model, so we will create a test and train split of the data\n",
    "loans_pred_train, loans_pred_test, loans_resp_train, loans_resp_test = \\\n",
    "train_test_split(loans_predictors, loans_response, test_size = 0.1, random_state = 7)\n",
    "# the training data is 90% of our starting dataset, the test data is 10% of our starting dataset\n",
    "# we use 'random_state = 7' in order to ensure the random selection gives reproducible results"
   ]
  },
  {
   "cell_type": "code",
   "execution_count": 43,
   "id": "48e53a4d",
   "metadata": {},
   "outputs": [
    {
     "data": {
      "text/plain": [
       "LogisticRegression()"
      ]
     },
     "execution_count": 43,
     "metadata": {},
     "output_type": "execute_result"
    }
   ],
   "source": [
    "# Logistic regression is the appropriate regression analysis to conduct when ...\n",
    "# ...the dependent variable is dichotomous (binary). \n",
    "# building the Logistic Regression model\n",
    "\n",
    "model = LogisticRegression()\n",
    "\n",
    "model.fit(loans_pred_train, loans_resp_train)"
   ]
  },
  {
   "cell_type": "code",
   "execution_count": 44,
   "id": "c9b2151d",
   "metadata": {},
   "outputs": [
    {
     "data": {
      "text/plain": [
       "0.8481322385949649"
      ]
     },
     "execution_count": 44,
     "metadata": {},
     "output_type": "execute_result"
    }
   ],
   "source": [
    "# the model accuracy on the training data\n",
    "model.score(loans_pred_train, loans_resp_train)"
   ]
  },
  {
   "cell_type": "code",
   "execution_count": 45,
   "id": "accdb4fc",
   "metadata": {},
   "outputs": [
    {
     "data": {
      "text/plain": [
       "0.857841937851725"
      ]
     },
     "execution_count": 45,
     "metadata": {},
     "output_type": "execute_result"
    }
   ],
   "source": [
    "# the accuracy on the test data\n",
    "model.score(loans_pred_test, loans_resp_test)"
   ]
  },
  {
   "cell_type": "code",
   "execution_count": 46,
   "id": "bd30b2e4",
   "metadata": {},
   "outputs": [
    {
     "data": {
      "text/plain": [
       "0.6419248831361629"
      ]
     },
     "execution_count": 46,
     "metadata": {},
     "output_type": "execute_result"
    }
   ],
   "source": [
    "# to prepare for calculation of the ROC, let's get the predicted proabilities of default from the model\n",
    "pred_test = model.predict_proba(loans_pred_test)\n",
    "# we have a 2d array where each row sums to 1, but we only want the second value (whether a loan defaults or not)\n",
    "pred_test = pred_test[:, 1]\n",
    "# now to calculate the ROC\n",
    "roc_auc_score(y_true = loans_resp_test, y_score = pred_test)\n",
    "# the AUC score of 0.65 indicates some predictive power of the model"
   ]
  }
 ],
 "metadata": {
  "kernelspec": {
   "display_name": "Python 3",
   "language": "python",
   "name": "python3"
  },
  "language_info": {
   "codemirror_mode": {
    "name": "ipython",
    "version": 3
   },
   "file_extension": ".py",
   "mimetype": "text/x-python",
   "name": "python",
   "nbconvert_exporter": "python",
   "pygments_lexer": "ipython3",
   "version": "3.8.8"
  },
  "varInspector": {
   "cols": {
    "lenName": 16,
    "lenType": 16,
    "lenVar": 40
   },
   "kernels_config": {
    "python": {
     "delete_cmd_postfix": "",
     "delete_cmd_prefix": "del ",
     "library": "var_list.py",
     "varRefreshCmd": "print(var_dic_list())"
    },
    "r": {
     "delete_cmd_postfix": ") ",
     "delete_cmd_prefix": "rm(",
     "library": "var_list.r",
     "varRefreshCmd": "cat(var_dic_list()) "
    }
   },
   "types_to_exclude": [
    "module",
    "function",
    "builtin_function_or_method",
    "instance",
    "_Feature"
   ],
   "window_display": false
  }
 },
 "nbformat": 4,
 "nbformat_minor": 5
}
