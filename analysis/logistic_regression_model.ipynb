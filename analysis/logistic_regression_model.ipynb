{
 "cells": [
  {
   "cell_type": "code",
   "execution_count": 611,
   "id": "0f396c22",
   "metadata": {},
   "outputs": [],
   "source": [
    "import pandas as pd\n",
    "import pandas_profiling as pp\n",
    "from sklearn.model_selection import train_test_split # to make the test-train split of the data\n",
    "from sklearn.linear_model import LogisticRegression # for the Logistic Regression model\n",
    "from sklearn.metrics import roc_auc_score # to calculate an ROC value of our model\n",
    "from sklearn.metrics import confusion_matrix # to make confusion matrix"
   ]
  },
  {
   "cell_type": "code",
   "execution_count": 612,
   "id": "8a3312b3",
   "metadata": {},
   "outputs": [],
   "source": [
    "# read in the clean data\n",
    "loans_data_clean = pd.read_csv(\"../data/clean_data/lending_club_loans_cleaned.csv\")\n",
    "# make a working copy\n",
    "df = loans_data_clean.copy()"
   ]
  },
  {
   "cell_type": "code",
   "execution_count": 613,
   "id": "0b7a6e97",
   "metadata": {},
   "outputs": [
    {
     "data": {
      "text/plain": [
       "(40856, 14)"
      ]
     },
     "execution_count": 613,
     "metadata": {},
     "output_type": "execute_result"
    }
   ],
   "source": [
    "df.shape"
   ]
  },
  {
   "cell_type": "code",
   "execution_count": 614,
   "id": "ab4674f8",
   "metadata": {},
   "outputs": [],
   "source": [
    "# decided to drop 'int_rate' as it is highly-correlated with fico\n",
    "# decided to drop 'sub_grade' as it will create many dummy variables, and it is equivalent to fico\n",
    "df.drop(['int_rate'], axis = 1, inplace = True)\n",
    "# df.drop(['fico'], axis = 1, inplace = True)\n",
    "df.drop(['sub_grade'], axis = 1, inplace = True)\n",
    "df.drop(['pub_rec'], axis = 1, inplace = True)\n",
    "# df.drop(['term'], axis = 1, inplace = True)\n",
    "df.drop(['addr_state'], axis = 1, inplace = True)\n",
    "df.drop(['dti'], axis = 1, inplace = True)\n",
    "df.drop(['home_ownership'], axis = 1, inplace = True)\n",
    "df.drop(['emp_length'], axis = 1, inplace = True)\n",
    "df.drop(['annual_inc'], axis = 1, inplace = True)\n",
    "df.drop(['loan_amnt'], axis = 1, inplace = True)\n",
    "df.drop(['verification_status'], axis = 1, inplace = True)\n",
    "df.drop(['issue_yr'], axis = 1, inplace = True)"
   ]
  },
  {
   "cell_type": "code",
   "execution_count": 615,
   "id": "c32f5fb2",
   "metadata": {},
   "outputs": [
    {
     "data": {
      "text/plain": [
       "(40856, 3)"
      ]
     },
     "execution_count": 615,
     "metadata": {},
     "output_type": "execute_result"
    }
   ],
   "source": [
    "df.shape"
   ]
  },
  {
   "cell_type": "code",
   "execution_count": 616,
   "id": "081b804f",
   "metadata": {},
   "outputs": [
    {
     "data": {
      "text/plain": [
       "Index(['defaulted', 'term', 'fico'], dtype='object')"
      ]
     },
     "execution_count": 616,
     "metadata": {},
     "output_type": "execute_result"
    }
   ],
   "source": [
    "df.columns"
   ]
  },
  {
   "cell_type": "code",
   "execution_count": 617,
   "id": "83c3ac72",
   "metadata": {
    "scrolled": false
   },
   "outputs": [],
   "source": [
    "#pp.ProfileReport(df)"
   ]
  },
  {
   "cell_type": "code",
   "execution_count": 618,
   "id": "5f706ccf",
   "metadata": {},
   "outputs": [
    {
     "data": {
      "text/html": [
       "<div>\n",
       "<style scoped>\n",
       "    .dataframe tbody tr th:only-of-type {\n",
       "        vertical-align: middle;\n",
       "    }\n",
       "\n",
       "    .dataframe tbody tr th {\n",
       "        vertical-align: top;\n",
       "    }\n",
       "\n",
       "    .dataframe thead th {\n",
       "        text-align: right;\n",
       "    }\n",
       "</style>\n",
       "<table border=\"1\" class=\"dataframe\">\n",
       "  <thead>\n",
       "    <tr style=\"text-align: right;\">\n",
       "      <th></th>\n",
       "      <th>defaulted</th>\n",
       "      <th>fico</th>\n",
       "      <th>term_60 months</th>\n",
       "    </tr>\n",
       "  </thead>\n",
       "  <tbody>\n",
       "    <tr>\n",
       "      <th>0</th>\n",
       "      <td>False</td>\n",
       "      <td>735.0</td>\n",
       "      <td>0</td>\n",
       "    </tr>\n",
       "    <tr>\n",
       "      <th>1</th>\n",
       "      <td>True</td>\n",
       "      <td>740.0</td>\n",
       "      <td>1</td>\n",
       "    </tr>\n",
       "    <tr>\n",
       "      <th>2</th>\n",
       "      <td>False</td>\n",
       "      <td>735.0</td>\n",
       "      <td>0</td>\n",
       "    </tr>\n",
       "    <tr>\n",
       "      <th>3</th>\n",
       "      <td>False</td>\n",
       "      <td>690.0</td>\n",
       "      <td>0</td>\n",
       "    </tr>\n",
       "    <tr>\n",
       "      <th>4</th>\n",
       "      <td>False</td>\n",
       "      <td>730.0</td>\n",
       "      <td>0</td>\n",
       "    </tr>\n",
       "  </tbody>\n",
       "</table>\n",
       "</div>"
      ],
      "text/plain": [
       "   defaulted   fico  term_60 months\n",
       "0      False  735.0               0\n",
       "1       True  740.0               1\n",
       "2      False  735.0               0\n",
       "3      False  690.0               0\n",
       "4      False  730.0               0"
      ]
     },
     "execution_count": 618,
     "metadata": {},
     "output_type": "execute_result"
    }
   ],
   "source": [
    "df = pd.get_dummies(df, drop_first = True)\n",
    "\n",
    "df.head()"
   ]
  },
  {
   "cell_type": "code",
   "execution_count": 619,
   "id": "189c583d",
   "metadata": {},
   "outputs": [],
   "source": [
    "# split our data into the predictor and outcome variables\n",
    "loans_predictors = df.drop(columns = \"defaulted\")\n",
    "loans_response = df[\"defaulted\"]"
   ]
  },
  {
   "cell_type": "code",
   "execution_count": 620,
   "id": "f8130428",
   "metadata": {},
   "outputs": [],
   "source": [
    "# we are interested in a prediction model, so we will create a test and train split of the data\n",
    "loans_pred_train, loans_pred_test, loans_resp_train, loans_resp_test = \\\n",
    "train_test_split(loans_predictors, loans_response, test_size = 0.1, random_state = 7)\n",
    "# the training data is 90% of our starting dataset, the test data is 10% of our starting dataset\n",
    "# we use 'random_state = 7' in order to ensure the random selection gives reproducible results"
   ]
  },
  {
   "cell_type": "code",
   "execution_count": 621,
   "id": "ce221a7a",
   "metadata": {},
   "outputs": [
    {
     "data": {
      "text/plain": [
       "LogisticRegression()"
      ]
     },
     "execution_count": 621,
     "metadata": {},
     "output_type": "execute_result"
    }
   ],
   "source": [
    "# Logistic regression is the appropriate regression analysis to conduct when ...\n",
    "# ...the dependent variable is dichotomous (binary). \n",
    "# building the Logistic Regression model\n",
    "\n",
    "model = LogisticRegression()\n",
    "\n",
    "model.fit(loans_pred_train, loans_resp_train)"
   ]
  },
  {
   "cell_type": "code",
   "execution_count": 622,
   "id": "fb8217ff",
   "metadata": {},
   "outputs": [
    {
     "data": {
      "text/plain": [
       "0.8493608920315474"
      ]
     },
     "execution_count": 622,
     "metadata": {},
     "output_type": "execute_result"
    }
   ],
   "source": [
    "# the model accuracy on the training data\n",
    "model.score(loans_pred_train, loans_resp_train)"
   ]
  },
  {
   "cell_type": "code",
   "execution_count": 623,
   "id": "929fd718",
   "metadata": {},
   "outputs": [
    {
     "data": {
      "text/plain": [
       "0.8463044542339696"
      ]
     },
     "execution_count": 623,
     "metadata": {},
     "output_type": "execute_result"
    }
   ],
   "source": [
    "# the accuracy on the test data\n",
    "model.score(loans_pred_test, loans_resp_test)"
   ]
  },
  {
   "cell_type": "code",
   "execution_count": 624,
   "id": "d4dea9de",
   "metadata": {},
   "outputs": [
    {
     "data": {
      "text/plain": [
       "0.6626333564189749"
      ]
     },
     "execution_count": 624,
     "metadata": {},
     "output_type": "execute_result"
    }
   ],
   "source": [
    "# to prepare for calculation of the ROC, let's get the predicted proabilities of default from the model\n",
    "pred_test = model.predict_proba(loans_pred_test)\n",
    "# we have a 2d array where each row sums to 1, but we only want the second value (whether a loan defaults or not)\n",
    "pred_test = pred_test[:, 1]\n",
    "# now to calculate the ROC\n",
    "roc_auc_score(y_true = loans_resp_test, y_score = pred_test)\n",
    "# the AUC score of 0.62 indicates some predictive power of the model"
   ]
  },
  {
   "cell_type": "code",
   "execution_count": 625,
   "id": "8d0a55c0",
   "metadata": {},
   "outputs": [
    {
     "data": {
      "text/html": [
       "<div>\n",
       "<style scoped>\n",
       "    .dataframe tbody tr th:only-of-type {\n",
       "        vertical-align: middle;\n",
       "    }\n",
       "\n",
       "    .dataframe tbody tr th {\n",
       "        vertical-align: top;\n",
       "    }\n",
       "\n",
       "    .dataframe thead th {\n",
       "        text-align: right;\n",
       "    }\n",
       "</style>\n",
       "<table border=\"1\" class=\"dataframe\">\n",
       "  <thead>\n",
       "    <tr style=\"text-align: right;\">\n",
       "      <th></th>\n",
       "      <th>Variable</th>\n",
       "      <th>Coefficient</th>\n",
       "      <th>Standardised</th>\n",
       "    </tr>\n",
       "  </thead>\n",
       "  <tbody>\n",
       "    <tr>\n",
       "      <th>fico</th>\n",
       "      <td>fico</td>\n",
       "      <td>-0.012810</td>\n",
       "      <td>-0.462515</td>\n",
       "    </tr>\n",
       "    <tr>\n",
       "      <th>term_60 months</th>\n",
       "      <td>term_60 months</td>\n",
       "      <td>0.858591</td>\n",
       "      <td>0.371436</td>\n",
       "    </tr>\n",
       "  </tbody>\n",
       "</table>\n",
       "</div>"
      ],
      "text/plain": [
       "                      Variable  Coefficient  Standardised\n",
       "fico                      fico    -0.012810     -0.462515\n",
       "term_60 months  term_60 months     0.858591      0.371436"
      ]
     },
     "execution_count": 625,
     "metadata": {},
     "output_type": "execute_result"
    }
   ],
   "source": [
    "\n",
    "# model = LogisticRegression()\n",
    "fit = model.fit(loans_pred_train, loans_resp_train)\n",
    "\n",
    "pd.DataFrame(\n",
    "  {\n",
    "  \"Variable\" : loans_pred_train.columns.values,\n",
    "  \"Coefficient\" : fit.coef_[0],\n",
    "  \"Standardised\": np.std(loans_pred_train, 0)*fit.coef_[0]\n",
    "  }\n",
    ")"
   ]
  },
  {
   "cell_type": "code",
   "execution_count": 626,
   "id": "bac906f0",
   "metadata": {},
   "outputs": [],
   "source": [
    "# confusion_matrix(loans_resp_test, loans_pred_train)"
   ]
  }
 ],
 "metadata": {
  "kernelspec": {
   "display_name": "Python 3",
   "language": "python",
   "name": "python3"
  },
  "language_info": {
   "codemirror_mode": {
    "name": "ipython",
    "version": 3
   },
   "file_extension": ".py",
   "mimetype": "text/x-python",
   "name": "python",
   "nbconvert_exporter": "python",
   "pygments_lexer": "ipython3",
   "version": "3.8.8"
  },
  "varInspector": {
   "cols": {
    "lenName": 16,
    "lenType": 16,
    "lenVar": 40
   },
   "kernels_config": {
    "python": {
     "delete_cmd_postfix": "",
     "delete_cmd_prefix": "del ",
     "library": "var_list.py",
     "varRefreshCmd": "print(var_dic_list())"
    },
    "r": {
     "delete_cmd_postfix": ") ",
     "delete_cmd_prefix": "rm(",
     "library": "var_list.r",
     "varRefreshCmd": "cat(var_dic_list()) "
    }
   },
   "types_to_exclude": [
    "module",
    "function",
    "builtin_function_or_method",
    "instance",
    "_Feature"
   ],
   "window_display": false
  }
 },
 "nbformat": 4,
 "nbformat_minor": 5
}
