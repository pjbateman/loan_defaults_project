{
 "cells": [
  {
   "cell_type": "markdown",
   "id": "7d57262c",
   "metadata": {},
   "source": [
    "### Random Forest"
   ]
  },
  {
   "cell_type": "code",
   "execution_count": 133,
   "id": "d5d0062d",
   "metadata": {},
   "outputs": [],
   "source": [
    "import pandas as pd\n",
    "from sklearn.model_selection import train_test_split # to make the test-train split of the data\n",
    "from sklearn.ensemble import RandomForestClassifier\n",
    "from sklearn.metrics import roc_auc_score # to calculate an ROC value of our model\n",
    "from sklearn.metrics import confusion_matrix # to make confusion matrix"
   ]
  },
  {
   "cell_type": "code",
   "execution_count": 134,
   "id": "2aadfb40",
   "metadata": {},
   "outputs": [],
   "source": [
    "# read in the clean data\n",
    "loans_data_clean = pd.read_csv(\"../data/clean_data/lending_club_loans_cleaned.csv\")\n",
    "# make a working copy\n",
    "df = loans_data_clean.copy()"
   ]
  },
  {
   "cell_type": "code",
   "execution_count": 135,
   "id": "a22c54d2",
   "metadata": {},
   "outputs": [
    {
     "data": {
      "text/plain": [
       "(40856, 14)"
      ]
     },
     "execution_count": 135,
     "metadata": {},
     "output_type": "execute_result"
    }
   ],
   "source": [
    "df.shape"
   ]
  },
  {
   "cell_type": "code",
   "execution_count": 136,
   "id": "60747a67",
   "metadata": {},
   "outputs": [],
   "source": [
    "# decided to drop 'int_rate' as it is highly-correlated with fico\n",
    "# decided to drop 'sub_grade' as it will create many dummy variables, and it is equivalent to fico\n",
    "# df.drop(['int_rate'], axis = 1, inplace = True)\n",
    "# df.drop(['fico'], axis = 1, inplace = True)\n",
    "df.drop(['sub_grade'], axis = 1, inplace = True)\n",
    "df.drop(['pub_rec'], axis = 1, inplace = True)\n",
    "#df.drop(['term'], axis = 1, inplace = True)\n",
    "#df.drop(['addr_state'], axis = 1, inplace = True)\n",
    "#df.drop(['dti'], axis = 1, inplace = True)\n",
    "#df.drop(['home_ownership'], axis = 1, inplace = True)\n",
    "#df.drop(['emp_length'], axis = 1, inplace = True)\n",
    "# df.drop(['annual_inc'], axis = 1, inplace = True)\n",
    "#df.drop(['loan_amnt'], axis = 1, inplace = True)\n",
    "#df.drop(['verification_status'], axis = 1, inplace = True)\n",
    "#df.drop(['issue_yr'], axis = 1, inplace = True)"
   ]
  },
  {
   "cell_type": "code",
   "execution_count": 137,
   "id": "5a74f98d",
   "metadata": {},
   "outputs": [
    {
     "data": {
      "text/plain": [
       "(40856, 12)"
      ]
     },
     "execution_count": 137,
     "metadata": {},
     "output_type": "execute_result"
    }
   ],
   "source": [
    "df.shape"
   ]
  },
  {
   "cell_type": "code",
   "execution_count": 138,
   "id": "f52c257d",
   "metadata": {},
   "outputs": [
    {
     "data": {
      "text/plain": [
       "Index(['defaulted', 'loan_amnt', 'term', 'int_rate', 'dti', 'fico',\n",
       "       'emp_length', 'home_ownership', 'verification_status', 'addr_state',\n",
       "       'annual_inc', 'issue_yr'],\n",
       "      dtype='object')"
      ]
     },
     "execution_count": 138,
     "metadata": {},
     "output_type": "execute_result"
    }
   ],
   "source": [
    "df.columns"
   ]
  },
  {
   "cell_type": "code",
   "execution_count": 139,
   "id": "957f8ba7",
   "metadata": {},
   "outputs": [
    {
     "data": {
      "text/html": [
       "<div>\n",
       "<style scoped>\n",
       "    .dataframe tbody tr th:only-of-type {\n",
       "        vertical-align: middle;\n",
       "    }\n",
       "\n",
       "    .dataframe tbody tr th {\n",
       "        vertical-align: top;\n",
       "    }\n",
       "\n",
       "    .dataframe thead th {\n",
       "        text-align: right;\n",
       "    }\n",
       "</style>\n",
       "<table border=\"1\" class=\"dataframe\">\n",
       "  <thead>\n",
       "    <tr style=\"text-align: right;\">\n",
       "      <th></th>\n",
       "      <th>defaulted</th>\n",
       "      <th>loan_amnt</th>\n",
       "      <th>int_rate</th>\n",
       "      <th>dti</th>\n",
       "      <th>fico</th>\n",
       "      <th>annual_inc</th>\n",
       "      <th>issue_yr</th>\n",
       "      <th>term_60 months</th>\n",
       "      <th>emp_length_10+ years</th>\n",
       "      <th>emp_length_2 years</th>\n",
       "      <th>...</th>\n",
       "      <th>addr_state_SD</th>\n",
       "      <th>addr_state_TN</th>\n",
       "      <th>addr_state_TX</th>\n",
       "      <th>addr_state_UT</th>\n",
       "      <th>addr_state_VA</th>\n",
       "      <th>addr_state_VT</th>\n",
       "      <th>addr_state_WA</th>\n",
       "      <th>addr_state_WI</th>\n",
       "      <th>addr_state_WV</th>\n",
       "      <th>addr_state_WY</th>\n",
       "    </tr>\n",
       "  </thead>\n",
       "  <tbody>\n",
       "    <tr>\n",
       "      <th>0</th>\n",
       "      <td>False</td>\n",
       "      <td>5000.0</td>\n",
       "      <td>10.65</td>\n",
       "      <td>27.65</td>\n",
       "      <td>735.0</td>\n",
       "      <td>24000</td>\n",
       "      <td>2011</td>\n",
       "      <td>0</td>\n",
       "      <td>1</td>\n",
       "      <td>0</td>\n",
       "      <td>...</td>\n",
       "      <td>0</td>\n",
       "      <td>0</td>\n",
       "      <td>0</td>\n",
       "      <td>0</td>\n",
       "      <td>0</td>\n",
       "      <td>0</td>\n",
       "      <td>0</td>\n",
       "      <td>0</td>\n",
       "      <td>0</td>\n",
       "      <td>0</td>\n",
       "    </tr>\n",
       "    <tr>\n",
       "      <th>1</th>\n",
       "      <td>True</td>\n",
       "      <td>2500.0</td>\n",
       "      <td>15.27</td>\n",
       "      <td>1.00</td>\n",
       "      <td>740.0</td>\n",
       "      <td>30000</td>\n",
       "      <td>2011</td>\n",
       "      <td>1</td>\n",
       "      <td>0</td>\n",
       "      <td>0</td>\n",
       "      <td>...</td>\n",
       "      <td>0</td>\n",
       "      <td>0</td>\n",
       "      <td>0</td>\n",
       "      <td>0</td>\n",
       "      <td>0</td>\n",
       "      <td>0</td>\n",
       "      <td>0</td>\n",
       "      <td>0</td>\n",
       "      <td>0</td>\n",
       "      <td>0</td>\n",
       "    </tr>\n",
       "    <tr>\n",
       "      <th>2</th>\n",
       "      <td>False</td>\n",
       "      <td>2400.0</td>\n",
       "      <td>15.96</td>\n",
       "      <td>8.72</td>\n",
       "      <td>735.0</td>\n",
       "      <td>12252</td>\n",
       "      <td>2011</td>\n",
       "      <td>0</td>\n",
       "      <td>1</td>\n",
       "      <td>0</td>\n",
       "      <td>...</td>\n",
       "      <td>0</td>\n",
       "      <td>0</td>\n",
       "      <td>0</td>\n",
       "      <td>0</td>\n",
       "      <td>0</td>\n",
       "      <td>0</td>\n",
       "      <td>0</td>\n",
       "      <td>0</td>\n",
       "      <td>0</td>\n",
       "      <td>0</td>\n",
       "    </tr>\n",
       "    <tr>\n",
       "      <th>3</th>\n",
       "      <td>False</td>\n",
       "      <td>10000.0</td>\n",
       "      <td>13.49</td>\n",
       "      <td>20.00</td>\n",
       "      <td>690.0</td>\n",
       "      <td>49200</td>\n",
       "      <td>2011</td>\n",
       "      <td>0</td>\n",
       "      <td>1</td>\n",
       "      <td>0</td>\n",
       "      <td>...</td>\n",
       "      <td>0</td>\n",
       "      <td>0</td>\n",
       "      <td>0</td>\n",
       "      <td>0</td>\n",
       "      <td>0</td>\n",
       "      <td>0</td>\n",
       "      <td>0</td>\n",
       "      <td>0</td>\n",
       "      <td>0</td>\n",
       "      <td>0</td>\n",
       "    </tr>\n",
       "    <tr>\n",
       "      <th>4</th>\n",
       "      <td>False</td>\n",
       "      <td>5000.0</td>\n",
       "      <td>7.90</td>\n",
       "      <td>11.20</td>\n",
       "      <td>730.0</td>\n",
       "      <td>36000</td>\n",
       "      <td>2011</td>\n",
       "      <td>0</td>\n",
       "      <td>0</td>\n",
       "      <td>0</td>\n",
       "      <td>...</td>\n",
       "      <td>0</td>\n",
       "      <td>0</td>\n",
       "      <td>0</td>\n",
       "      <td>0</td>\n",
       "      <td>0</td>\n",
       "      <td>0</td>\n",
       "      <td>0</td>\n",
       "      <td>0</td>\n",
       "      <td>0</td>\n",
       "      <td>0</td>\n",
       "    </tr>\n",
       "  </tbody>\n",
       "</table>\n",
       "<p>5 rows × 73 columns</p>\n",
       "</div>"
      ],
      "text/plain": [
       "   defaulted  loan_amnt  int_rate    dti   fico  annual_inc  issue_yr  \\\n",
       "0      False     5000.0     10.65  27.65  735.0       24000      2011   \n",
       "1       True     2500.0     15.27   1.00  740.0       30000      2011   \n",
       "2      False     2400.0     15.96   8.72  735.0       12252      2011   \n",
       "3      False    10000.0     13.49  20.00  690.0       49200      2011   \n",
       "4      False     5000.0      7.90  11.20  730.0       36000      2011   \n",
       "\n",
       "   term_60 months  emp_length_10+ years  emp_length_2 years  ...  \\\n",
       "0               0                     1                   0  ...   \n",
       "1               1                     0                   0  ...   \n",
       "2               0                     1                   0  ...   \n",
       "3               0                     1                   0  ...   \n",
       "4               0                     0                   0  ...   \n",
       "\n",
       "   addr_state_SD  addr_state_TN  addr_state_TX  addr_state_UT  addr_state_VA  \\\n",
       "0              0              0              0              0              0   \n",
       "1              0              0              0              0              0   \n",
       "2              0              0              0              0              0   \n",
       "3              0              0              0              0              0   \n",
       "4              0              0              0              0              0   \n",
       "\n",
       "   addr_state_VT  addr_state_WA  addr_state_WI  addr_state_WV  addr_state_WY  \n",
       "0              0              0              0              0              0  \n",
       "1              0              0              0              0              0  \n",
       "2              0              0              0              0              0  \n",
       "3              0              0              0              0              0  \n",
       "4              0              0              0              0              0  \n",
       "\n",
       "[5 rows x 73 columns]"
      ]
     },
     "execution_count": 139,
     "metadata": {},
     "output_type": "execute_result"
    }
   ],
   "source": [
    "df = pd.get_dummies(df, drop_first = True)\n",
    "\n",
    "df.head()"
   ]
  },
  {
   "cell_type": "code",
   "execution_count": 140,
   "id": "28eb462f",
   "metadata": {},
   "outputs": [],
   "source": [
    "# split our data into the predictor and outcome variables\n",
    "loans_predictors = df.drop(columns = \"defaulted\")\n",
    "loans_response = df[\"defaulted\"]"
   ]
  },
  {
   "cell_type": "code",
   "execution_count": 141,
   "id": "1aee73e6",
   "metadata": {},
   "outputs": [],
   "source": [
    "# we are interested in a prediction model, so we will create a test and train split of the data\n",
    "loans_pred_train, loans_pred_test, loans_resp_train, loans_resp_test = \\\n",
    "train_test_split(loans_predictors, loans_response, test_size = 0.1, random_state = 7)\n",
    "# the training data is 90% of our starting dataset, the test data is 10% of our starting dataset\n",
    "# we use 'random_state = 7' in order to ensure the random selection gives reproducible results"
   ]
  },
  {
   "cell_type": "code",
   "execution_count": 142,
   "id": "85a6d67c",
   "metadata": {},
   "outputs": [
    {
     "data": {
      "text/plain": [
       "RandomForestClassifier(n_estimators=200)"
      ]
     },
     "execution_count": 142,
     "metadata": {},
     "output_type": "execute_result"
    }
   ],
   "source": [
    "# run the model with 100 trees\n",
    "model = RandomForestClassifier(n_estimators = 200)\n",
    "\n",
    "# train the model on the training data\n",
    "model.fit(loans_pred_train, loans_resp_train)"
   ]
  },
  {
   "cell_type": "code",
   "execution_count": 143,
   "id": "66eff8d9",
   "metadata": {},
   "outputs": [
    {
     "data": {
      "text/plain": [
       "1.0"
      ]
     },
     "execution_count": 143,
     "metadata": {},
     "output_type": "execute_result"
    }
   ],
   "source": [
    "# the model accuracy on the training data\n",
    "model.score(loans_pred_train, loans_resp_train)"
   ]
  },
  {
   "cell_type": "code",
   "execution_count": 144,
   "id": "b37080ed",
   "metadata": {},
   "outputs": [
    {
     "data": {
      "text/plain": [
       "0.8465491923641704"
      ]
     },
     "execution_count": 144,
     "metadata": {},
     "output_type": "execute_result"
    }
   ],
   "source": [
    "model.score(loans_pred_test, loans_resp_test)"
   ]
  },
  {
   "cell_type": "code",
   "execution_count": 145,
   "id": "3d1e6016",
   "metadata": {
    "scrolled": true
   },
   "outputs": [
    {
     "data": {
      "text/plain": [
       "0.6919234176818823"
      ]
     },
     "execution_count": 145,
     "metadata": {},
     "output_type": "execute_result"
    }
   ],
   "source": [
    "# to prepare for calculation of the ROC, let's get the predicted proabilities of default from the model\n",
    "pred_test = model.predict_proba(loans_pred_test)\n",
    "# we have a 2d array where each row sums to 1, but we only want the second value (whether a loan defaults or not)\n",
    "pred_test = pred_test[:, 1]\n",
    "# now to calculate the ROC\n",
    "roc_auc_score(y_true = loans_resp_test, y_score = pred_test)\n",
    "# the AUC score of 0.62 indicates some predictive power of the model"
   ]
  },
  {
   "cell_type": "code",
   "execution_count": 146,
   "id": "c5e73c7c",
   "metadata": {},
   "outputs": [],
   "source": [
    "# confusion_matrix(loans_resp_test, loans_pred_train)"
   ]
  },
  {
   "cell_type": "code",
   "execution_count": 150,
   "id": "b2c8f224",
   "metadata": {},
   "outputs": [
    {
     "data": {
      "image/png": "[encoded data removed]",
      "text/plain": [
       "<Figure size 1080x720 with 1 Axes>"
      ]
     },
     "metadata": {
      "needs_background": "light"
     },
     "output_type": "display_data"
    }
   ],
   "source": [
    "import matplotlib.pyplot as plt\n",
    "from sklearn.tree import plot_tree\n",
    "\n",
    "# create a list with names of predictors, and an array with target categories for plotting\n",
    "loans_pred_names = list(loans_pred_test)\n",
    "loans_resp_names = ['0', '1']\n",
    "\n",
    "# set the figure size\n",
    "fig = plt.figure(figsize=(15, 10))\n",
    "\n",
    "# plot the decision tree\n",
    "plot_tree(model.estimators_[0], # Pull out one tree from the forest\n",
    "          max_depth = 2, # will freeze if we try plot all of it!\n",
    "          feature_names = loans_pred_names,\n",
    "          class_names = loans_resp_names, \n",
    "          filled=True);"
   ]
  },
  {
   "cell_type": "code",
   "execution_count": 148,
   "id": "298b3a0c",
   "metadata": {},
   "outputs": [
    {
     "name": "stdout",
     "output_type": "stream",
     "text": [
      "Variable: int_rate             Importance: 0.14\n",
      "Variable: dti                  Importance: 0.13\n",
      "Variable: annual_inc           Importance: 0.13\n",
      "Variable: loan_amnt            Importance: 0.11\n",
      "Variable: fico                 Importance: 0.1\n",
      "Variable: issue_yr             Importance: 0.04\n",
      "Variable: term_60 months       Importance: 0.02\n",
      "Variable: home_ownership_RENT  Importance: 0.02\n",
      "Variable: verification_status_Source Verified Importance: 0.02\n",
      "Variable: verification_status_Verified Importance: 0.02\n",
      "Variable: emp_length_10+ years Importance: 0.01\n",
      "Variable: emp_length_2 years   Importance: 0.01\n",
      "Variable: emp_length_3 years   Importance: 0.01\n",
      "Variable: emp_length_4 years   Importance: 0.01\n",
      "Variable: emp_length_5 years   Importance: 0.01\n",
      "Variable: emp_length_6 years   Importance: 0.01\n",
      "Variable: emp_length_7 years   Importance: 0.01\n",
      "Variable: emp_length_8 years   Importance: 0.01\n",
      "Variable: emp_length_9 years   Importance: 0.01\n",
      "Variable: emp_length_< 1 year  Importance: 0.01\n",
      "Variable: home_ownership_OWN   Importance: 0.01\n",
      "Variable: addr_state_CA        Importance: 0.01\n",
      "Variable: addr_state_FL        Importance: 0.01\n",
      "Variable: addr_state_GA        Importance: 0.01\n",
      "Variable: addr_state_IL        Importance: 0.01\n",
      "Variable: addr_state_MA        Importance: 0.01\n",
      "Variable: addr_state_MD        Importance: 0.01\n",
      "Variable: addr_state_NJ        Importance: 0.01\n",
      "Variable: addr_state_NY        Importance: 0.01\n",
      "Variable: addr_state_OH        Importance: 0.01\n",
      "Variable: addr_state_PA        Importance: 0.01\n",
      "Variable: addr_state_TX        Importance: 0.01\n",
      "Variable: addr_state_VA        Importance: 0.01\n",
      "Variable: addr_state_WA        Importance: 0.01\n",
      "Variable: home_ownership_NONE  Importance: 0.0\n",
      "Variable: home_ownership_OTHER Importance: 0.0\n",
      "Variable: addr_state_AL        Importance: 0.0\n",
      "Variable: addr_state_AR        Importance: 0.0\n",
      "Variable: addr_state_AZ        Importance: 0.0\n",
      "Variable: addr_state_CO        Importance: 0.0\n",
      "Variable: addr_state_CT        Importance: 0.0\n",
      "Variable: addr_state_DC        Importance: 0.0\n",
      "Variable: addr_state_DE        Importance: 0.0\n",
      "Variable: addr_state_HI        Importance: 0.0\n",
      "Variable: addr_state_IA        Importance: 0.0\n",
      "Variable: addr_state_ID        Importance: 0.0\n",
      "Variable: addr_state_IN        Importance: 0.0\n",
      "Variable: addr_state_KS        Importance: 0.0\n",
      "Variable: addr_state_KY        Importance: 0.0\n",
      "Variable: addr_state_LA        Importance: 0.0\n",
      "Variable: addr_state_ME        Importance: 0.0\n",
      "Variable: addr_state_MI        Importance: 0.0\n",
      "Variable: addr_state_MN        Importance: 0.0\n",
      "Variable: addr_state_MO        Importance: 0.0\n",
      "Variable: addr_state_MS        Importance: 0.0\n",
      "Variable: addr_state_MT        Importance: 0.0\n",
      "Variable: addr_state_NC        Importance: 0.0\n",
      "Variable: addr_state_NE        Importance: 0.0\n",
      "Variable: addr_state_NH        Importance: 0.0\n",
      "Variable: addr_state_NM        Importance: 0.0\n",
      "Variable: addr_state_NV        Importance: 0.0\n",
      "Variable: addr_state_OK        Importance: 0.0\n",
      "Variable: addr_state_OR        Importance: 0.0\n",
      "Variable: addr_state_RI        Importance: 0.0\n",
      "Variable: addr_state_SC        Importance: 0.0\n",
      "Variable: addr_state_SD        Importance: 0.0\n",
      "Variable: addr_state_TN        Importance: 0.0\n",
      "Variable: addr_state_UT        Importance: 0.0\n",
      "Variable: addr_state_VT        Importance: 0.0\n",
      "Variable: addr_state_WI        Importance: 0.0\n",
      "Variable: addr_state_WV        Importance: 0.0\n",
      "Variable: addr_state_WY        Importance: 0.0\n"
     ]
    }
   ],
   "source": [
    "# Get numerical feature importances\n",
    "importances = list(model.feature_importances_)\n",
    "\n",
    "# List of tuples with variable and importance\n",
    "feature_importances = [(feature, round(importance, 2)) for feature, importance in zip(loans_pred_names, importances)]\n",
    "\n",
    "# Sort the feature importances by most important first\n",
    "feature_importances = sorted(feature_importances, key = lambda x: x[1], reverse = True)\n",
    "\n",
    "# Print out the feature and importances \n",
    "[print('Variable: {:20} Importance: {}'.format(*pair)) for pair in feature_importances];"
   ]
  }
 ],
 "metadata": {
  "kernelspec": {
   "display_name": "Python 3",
   "language": "python",
   "name": "python3"
  },
  "language_info": {
   "codemirror_mode": {
    "name": "ipython",
    "version": 3
   },
   "file_extension": ".py",
   "mimetype": "text/x-python",
   "name": "python",
   "nbconvert_exporter": "python",
   "pygments_lexer": "ipython3",
   "version": "3.8.8"
  },
  "varInspector": {
   "cols": {
    "lenName": 16,
    "lenType": 16,
    "lenVar": 40
   },
   "kernels_config": {
    "python": {
     "delete_cmd_postfix": "",
     "delete_cmd_prefix": "del ",
     "library": "var_list.py",
     "varRefreshCmd": "print(var_dic_list())"
    },
    "r": {
     "delete_cmd_postfix": ") ",
     "delete_cmd_prefix": "rm(",
     "library": "var_list.r",
     "varRefreshCmd": "cat(var_dic_list()) "
    }
   },
   "types_to_exclude": [
    "module",
    "function",
    "builtin_function_or_method",
    "instance",
    "_Feature"
   ],
   "window_display": false
  }
 },
 "nbformat": 4,
 "nbformat_minor": 5
}
