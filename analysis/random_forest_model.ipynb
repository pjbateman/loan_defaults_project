{
 "cells": [
  {
   "cell_type": "markdown",
   "id": "7d57262c",
   "metadata": {},
   "source": [
    "### Random Forest"
   ]
  },
  {
   "cell_type": "code",
   "execution_count": 210,
   "id": "d5d0062d",
   "metadata": {},
   "outputs": [],
   "source": [
    "import pandas as pd\n",
    "import numpy as np\n",
    "import pandas_profiling as pp\n",
    "import seaborn as sns\n",
    "from sklearn.model_selection import train_test_split # to make the test-train split of the data\n",
    "from sklearn.ensemble import RandomForestClassifier\n",
    "from sklearn.utils import resample\n",
    "from sklearn.metrics import roc_auc_score # to calculate an ROC value of our model\n",
    "from sklearn.metrics import confusion_matrix, precision_score, recall_score # to make confusion matrix\n",
    "from sklearn.utils import shuffle"
   ]
  },
  {
   "cell_type": "code",
   "execution_count": 211,
   "id": "2aadfb40",
   "metadata": {},
   "outputs": [],
   "source": [
    "# read in the clean data\n",
    "loans_data_clean = pd.read_csv(\"../data/clean_data/lending_club_loans_cleaned.csv\")\n",
    "# make a working copy\n",
    "df = loans_data_clean.copy()"
   ]
  },
  {
   "cell_type": "code",
   "execution_count": 212,
   "id": "a22c54d2",
   "metadata": {},
   "outputs": [
    {
     "data": {
      "text/plain": [
       "(40856, 14)"
      ]
     },
     "execution_count": 212,
     "metadata": {},
     "output_type": "execute_result"
    }
   ],
   "source": [
    "df.shape"
   ]
  },
  {
   "cell_type": "code",
   "execution_count": 213,
   "id": "60747a67",
   "metadata": {},
   "outputs": [],
   "source": [
    "# decided to drop 'int_rate' as it is highly-correlated with fico\n",
    "# decided to drop 'sub_grade' as it will create many dummy variables, and it is equivalent to fico\n",
    "df.drop(['int_rate'], axis = 1, inplace = True)\n",
    "# df.drop(['fico'], axis = 1, inplace = True)\n",
    "df.drop(['sub_grade'], axis = 1, inplace = True)\n",
    "# df.drop(['pub_rec'], axis = 1, inplace = True)\n",
    "# df.drop(['term'], axis = 1, inplace = True)\n",
    "# df.drop(['addr_state'], axis = 1, inplace = True)\n",
    "# df.drop(['dti'], axis = 1, inplace = True)\n",
    "# df.drop(['home_ownership'], axis = 1, inplace = True)\n",
    "# df.drop(['emp_length'], axis = 1, inplace = True)\n",
    "# df.drop(['annual_inc'], axis = 1, inplace = True)\n",
    "# df.drop(['loan_amnt'], axis = 1, inplace = True)\n",
    "# df.drop(['verification_status'], axis = 1, inplace = True)\n",
    "# df.drop(['issue_yr'], axis = 1, inplace = True)"
   ]
  },
  {
   "cell_type": "code",
   "execution_count": 214,
   "id": "5a74f98d",
   "metadata": {},
   "outputs": [
    {
     "data": {
      "text/plain": [
       "(40856, 12)"
      ]
     },
     "execution_count": 214,
     "metadata": {},
     "output_type": "execute_result"
    }
   ],
   "source": [
    "df.shape"
   ]
  },
  {
   "cell_type": "code",
   "execution_count": 215,
   "id": "f52c257d",
   "metadata": {},
   "outputs": [
    {
     "data": {
      "text/plain": [
       "Index(['defaulted', 'loan_amnt', 'term', 'dti', 'fico', 'pub_rec',\n",
       "       'emp_length', 'home_ownership', 'verification_status', 'addr_state',\n",
       "       'annual_inc', 'issue_yr'],\n",
       "      dtype='object')"
      ]
     },
     "execution_count": 215,
     "metadata": {},
     "output_type": "execute_result"
    }
   ],
   "source": [
    "df.columns"
   ]
  },
  {
   "cell_type": "code",
   "execution_count": 216,
   "id": "957f8ba7",
   "metadata": {},
   "outputs": [
    {
     "data": {
      "text/html": [
       "<div>\n",
       "<style scoped>\n",
       "    .dataframe tbody tr th:only-of-type {\n",
       "        vertical-align: middle;\n",
       "    }\n",
       "\n",
       "    .dataframe tbody tr th {\n",
       "        vertical-align: top;\n",
       "    }\n",
       "\n",
       "    .dataframe thead th {\n",
       "        text-align: right;\n",
       "    }\n",
       "</style>\n",
       "<table border=\"1\" class=\"dataframe\">\n",
       "  <thead>\n",
       "    <tr style=\"text-align: right;\">\n",
       "      <th></th>\n",
       "      <th>defaulted</th>\n",
       "      <th>loan_amnt</th>\n",
       "      <th>dti</th>\n",
       "      <th>fico</th>\n",
       "      <th>pub_rec</th>\n",
       "      <th>annual_inc</th>\n",
       "      <th>issue_yr</th>\n",
       "      <th>term_60 months</th>\n",
       "      <th>emp_length_10+ years</th>\n",
       "      <th>emp_length_2 years</th>\n",
       "      <th>...</th>\n",
       "      <th>addr_state_SD</th>\n",
       "      <th>addr_state_TN</th>\n",
       "      <th>addr_state_TX</th>\n",
       "      <th>addr_state_UT</th>\n",
       "      <th>addr_state_VA</th>\n",
       "      <th>addr_state_VT</th>\n",
       "      <th>addr_state_WA</th>\n",
       "      <th>addr_state_WI</th>\n",
       "      <th>addr_state_WV</th>\n",
       "      <th>addr_state_WY</th>\n",
       "    </tr>\n",
       "  </thead>\n",
       "  <tbody>\n",
       "    <tr>\n",
       "      <th>0</th>\n",
       "      <td>False</td>\n",
       "      <td>5000.0</td>\n",
       "      <td>27.65</td>\n",
       "      <td>735.0</td>\n",
       "      <td>0</td>\n",
       "      <td>24000</td>\n",
       "      <td>2011</td>\n",
       "      <td>0</td>\n",
       "      <td>1</td>\n",
       "      <td>0</td>\n",
       "      <td>...</td>\n",
       "      <td>0</td>\n",
       "      <td>0</td>\n",
       "      <td>0</td>\n",
       "      <td>0</td>\n",
       "      <td>0</td>\n",
       "      <td>0</td>\n",
       "      <td>0</td>\n",
       "      <td>0</td>\n",
       "      <td>0</td>\n",
       "      <td>0</td>\n",
       "    </tr>\n",
       "    <tr>\n",
       "      <th>1</th>\n",
       "      <td>True</td>\n",
       "      <td>2500.0</td>\n",
       "      <td>1.00</td>\n",
       "      <td>740.0</td>\n",
       "      <td>0</td>\n",
       "      <td>30000</td>\n",
       "      <td>2011</td>\n",
       "      <td>1</td>\n",
       "      <td>0</td>\n",
       "      <td>0</td>\n",
       "      <td>...</td>\n",
       "      <td>0</td>\n",
       "      <td>0</td>\n",
       "      <td>0</td>\n",
       "      <td>0</td>\n",
       "      <td>0</td>\n",
       "      <td>0</td>\n",
       "      <td>0</td>\n",
       "      <td>0</td>\n",
       "      <td>0</td>\n",
       "      <td>0</td>\n",
       "    </tr>\n",
       "    <tr>\n",
       "      <th>2</th>\n",
       "      <td>False</td>\n",
       "      <td>2400.0</td>\n",
       "      <td>8.72</td>\n",
       "      <td>735.0</td>\n",
       "      <td>0</td>\n",
       "      <td>12252</td>\n",
       "      <td>2011</td>\n",
       "      <td>0</td>\n",
       "      <td>1</td>\n",
       "      <td>0</td>\n",
       "      <td>...</td>\n",
       "      <td>0</td>\n",
       "      <td>0</td>\n",
       "      <td>0</td>\n",
       "      <td>0</td>\n",
       "      <td>0</td>\n",
       "      <td>0</td>\n",
       "      <td>0</td>\n",
       "      <td>0</td>\n",
       "      <td>0</td>\n",
       "      <td>0</td>\n",
       "    </tr>\n",
       "    <tr>\n",
       "      <th>3</th>\n",
       "      <td>False</td>\n",
       "      <td>10000.0</td>\n",
       "      <td>20.00</td>\n",
       "      <td>690.0</td>\n",
       "      <td>0</td>\n",
       "      <td>49200</td>\n",
       "      <td>2011</td>\n",
       "      <td>0</td>\n",
       "      <td>1</td>\n",
       "      <td>0</td>\n",
       "      <td>...</td>\n",
       "      <td>0</td>\n",
       "      <td>0</td>\n",
       "      <td>0</td>\n",
       "      <td>0</td>\n",
       "      <td>0</td>\n",
       "      <td>0</td>\n",
       "      <td>0</td>\n",
       "      <td>0</td>\n",
       "      <td>0</td>\n",
       "      <td>0</td>\n",
       "    </tr>\n",
       "    <tr>\n",
       "      <th>4</th>\n",
       "      <td>False</td>\n",
       "      <td>5000.0</td>\n",
       "      <td>11.20</td>\n",
       "      <td>730.0</td>\n",
       "      <td>0</td>\n",
       "      <td>36000</td>\n",
       "      <td>2011</td>\n",
       "      <td>0</td>\n",
       "      <td>0</td>\n",
       "      <td>0</td>\n",
       "      <td>...</td>\n",
       "      <td>0</td>\n",
       "      <td>0</td>\n",
       "      <td>0</td>\n",
       "      <td>0</td>\n",
       "      <td>0</td>\n",
       "      <td>0</td>\n",
       "      <td>0</td>\n",
       "      <td>0</td>\n",
       "      <td>0</td>\n",
       "      <td>0</td>\n",
       "    </tr>\n",
       "  </tbody>\n",
       "</table>\n",
       "<p>5 rows × 73 columns</p>\n",
       "</div>"
      ],
      "text/plain": [
       "   defaulted  loan_amnt    dti   fico  pub_rec  annual_inc  issue_yr  \\\n",
       "0      False     5000.0  27.65  735.0        0       24000      2011   \n",
       "1       True     2500.0   1.00  740.0        0       30000      2011   \n",
       "2      False     2400.0   8.72  735.0        0       12252      2011   \n",
       "3      False    10000.0  20.00  690.0        0       49200      2011   \n",
       "4      False     5000.0  11.20  730.0        0       36000      2011   \n",
       "\n",
       "   term_60 months  emp_length_10+ years  emp_length_2 years  ...  \\\n",
       "0               0                     1                   0  ...   \n",
       "1               1                     0                   0  ...   \n",
       "2               0                     1                   0  ...   \n",
       "3               0                     1                   0  ...   \n",
       "4               0                     0                   0  ...   \n",
       "\n",
       "   addr_state_SD  addr_state_TN  addr_state_TX  addr_state_UT  addr_state_VA  \\\n",
       "0              0              0              0              0              0   \n",
       "1              0              0              0              0              0   \n",
       "2              0              0              0              0              0   \n",
       "3              0              0              0              0              0   \n",
       "4              0              0              0              0              0   \n",
       "\n",
       "   addr_state_VT  addr_state_WA  addr_state_WI  addr_state_WV  addr_state_WY  \n",
       "0              0              0              0              0              0  \n",
       "1              0              0              0              0              0  \n",
       "2              0              0              0              0              0  \n",
       "3              0              0              0              0              0  \n",
       "4              0              0              0              0              0  \n",
       "\n",
       "[5 rows x 73 columns]"
      ]
     },
     "execution_count": 216,
     "metadata": {},
     "output_type": "execute_result"
    }
   ],
   "source": [
    "df = pd.get_dummies(df, drop_first = True)\n",
    "\n",
    "df.head()"
   ]
  },
  {
   "cell_type": "code",
   "execution_count": 217,
   "id": "28eb462f",
   "metadata": {},
   "outputs": [],
   "source": [
    "# split our data into the predictor and outcome variables\n",
    "loans_predictors = df.drop(columns = \"defaulted\")\n",
    "loans_response = df[\"defaulted\"]"
   ]
  },
  {
   "cell_type": "code",
   "execution_count": 218,
   "id": "7380b09b",
   "metadata": {},
   "outputs": [],
   "source": [
    "# we are interested in a prediction model, so we will create a test and train split of the data\n",
    "loans_pred_train, loans_pred_test, loans_resp_train, loans_resp_test = \\\n",
    "train_test_split(loans_predictors, loans_response, test_size = 0.2, random_state = 7)\n",
    "# the training data is 80% of our starting dataset, the test data is 20% of our starting dataset\n",
    "# we use 'random_state = 7' in order to ensure the random selection gives reproducible results"
   ]
  },
  {
   "cell_type": "code",
   "execution_count": 219,
   "id": "6deee254",
   "metadata": {},
   "outputs": [],
   "source": [
    "loans_train = pd.concat([loans_pred_train, loans_resp_train], axis = 1)\n",
    "defaulted = loans_train.loc[df['defaulted'] == True] \n",
    "not_defaulted = loans_train.loc[df['defaulted'] == False] "
   ]
  },
  {
   "cell_type": "code",
   "execution_count": 220,
   "id": "e2ce2a2e",
   "metadata": {},
   "outputs": [],
   "source": [
    "resample_defaulted = resample(defaulted, replace = True, n_samples = len(not_defaulted))"
   ]
  },
  {
   "cell_type": "code",
   "execution_count": 221,
   "id": "bec68035",
   "metadata": {},
   "outputs": [],
   "source": [
    "loans_train = pd.concat([not_defaulted, resample_defaulted], axis = 0)"
   ]
  },
  {
   "cell_type": "code",
   "execution_count": 222,
   "id": "9f0096df",
   "metadata": {},
   "outputs": [
    {
     "data": {
      "text/plain": [
       "False    50.0\n",
       "True     50.0\n",
       "Name: defaulted, dtype: float64"
      ]
     },
     "execution_count": 222,
     "metadata": {},
     "output_type": "execute_result"
    }
   ],
   "source": [
    "(loans_train['defaulted'].value_counts() / loans_train['defaulted'].count()) * 100"
   ]
  },
  {
   "cell_type": "code",
   "execution_count": 223,
   "id": "ab1b3c4a",
   "metadata": {},
   "outputs": [],
   "source": [
    "loans_train = shuffle(loans_train)"
   ]
  },
  {
   "cell_type": "code",
   "execution_count": 224,
   "id": "9809ff8a",
   "metadata": {},
   "outputs": [],
   "source": [
    "loans_resp_train = loans_train.loc[:,'defaulted']\n",
    "loans_pred_train = loans_train.drop(['defaulted'], axis = 1)"
   ]
  },
  {
   "cell_type": "code",
   "execution_count": 225,
   "id": "85a6d67c",
   "metadata": {},
   "outputs": [
    {
     "data": {
      "text/plain": [
       "RandomForestClassifier(n_estimators=200)"
      ]
     },
     "execution_count": 225,
     "metadata": {},
     "output_type": "execute_result"
    }
   ],
   "source": [
    "# run the model with 100 trees\n",
    "model = RandomForestClassifier(n_estimators = 200)\n",
    "\n",
    "# train the model on the training data\n",
    "model.fit(loans_pred_train, loans_resp_train)"
   ]
  },
  {
   "cell_type": "code",
   "execution_count": 226,
   "id": "fda1321d",
   "metadata": {},
   "outputs": [
    {
     "data": {
      "text/plain": [
       "1.0"
      ]
     },
     "execution_count": 226,
     "metadata": {},
     "output_type": "execute_result"
    }
   ],
   "source": [
    "# the model accuracy on the training data\n",
    "train_score = model.score(loans_pred_train, loans_resp_train)\n",
    "train_score"
   ]
  },
  {
   "cell_type": "code",
   "execution_count": 227,
   "id": "9a07a6f3",
   "metadata": {},
   "outputs": [
    {
     "data": {
      "text/plain": [
       "0.8348017621145375"
      ]
     },
     "execution_count": 227,
     "metadata": {},
     "output_type": "execute_result"
    }
   ],
   "source": [
    "# the accuracy on the test data\n",
    "test_score = model.score(loans_pred_test, loans_resp_test)\n",
    "test_score"
   ]
  },
  {
   "cell_type": "code",
   "execution_count": 228,
   "id": "3d1e6016",
   "metadata": {
    "scrolled": true
   },
   "outputs": [
    {
     "name": "stdout",
     "output_type": "stream",
     "text": [
      "0.6747109343296052\n"
     ]
    }
   ],
   "source": [
    "# to prepare for calculation of the ROC, let's get the predicted proabilities of default from the model\n",
    "pred_test = model.predict_proba(loans_pred_test)\n",
    "# we have a 2d array where each row sums to 1, but we only want the second value (whether a loan defaults or not)\n",
    "pred_test = pred_test[:, 1]\n",
    "# now to calculate the ROC\n",
    "AUC_score = roc_auc_score(y_true = loans_resp_test, y_score = pred_test)\n",
    "print(AUC_score)\n",
    "# the AUC score of 0.6 indicates some predictive power of the model"
   ]
  },
  {
   "cell_type": "code",
   "execution_count": 239,
   "id": "b2c8f224",
   "metadata": {},
   "outputs": [
    {
     "data": {
      "image/png": "[encoded data removed]",
      "text/plain": [
       "<Figure size 1080x720 with 1 Axes>"
      ]
     },
     "metadata": {
      "needs_background": "light"
     },
     "output_type": "display_data"
    }
   ],
   "source": [
    "import matplotlib.pyplot as plt\n",
    "from sklearn.tree import plot_tree\n",
    "\n",
    "# create a list with names of predictors, and an array with target categories for plotting\n",
    "loans_pred_names = list(loans_pred_test)\n",
    "loans_resp_names = ['0', '1']\n",
    "\n",
    "# set the figure size\n",
    "fig = plt.figure(figsize=(15, 10))\n",
    "\n",
    "# plot the decision tree\n",
    "plot_tree(model.estimators_[0], # Pull out one tree from the forest\n",
    "          max_depth = 2, # will freeze if we try plot all of it!\n",
    "          feature_names = loans_pred_names,\n",
    "          class_names = loans_resp_names, \n",
    "          filled=True);"
   ]
  },
  {
   "cell_type": "code",
   "execution_count": 230,
   "id": "3b45151f",
   "metadata": {},
   "outputs": [
    {
     "name": "stdout",
     "output_type": "stream",
     "text": [
      "Variable: dti                  Importance: 0.15\n",
      "Variable: annual_inc           Importance: 0.15\n",
      "Variable: loan_amnt            Importance: 0.13\n",
      "Variable: fico                 Importance: 0.13\n",
      "Variable: issue_yr             Importance: 0.04\n",
      "Variable: term_60 months       Importance: 0.04\n",
      "Variable: home_ownership_RENT  Importance: 0.02\n",
      "Variable: verification_status_Source Verified Importance: 0.02\n",
      "Variable: verification_status_Verified Importance: 0.02\n",
      "Variable: addr_state_CA        Importance: 0.02\n",
      "Variable: pub_rec              Importance: 0.01\n",
      "Variable: emp_length_10+ years Importance: 0.01\n",
      "Variable: emp_length_2 years   Importance: 0.01\n",
      "Variable: emp_length_3 years   Importance: 0.01\n",
      "Variable: emp_length_4 years   Importance: 0.01\n",
      "Variable: emp_length_5 years   Importance: 0.01\n",
      "Variable: emp_length_6 years   Importance: 0.01\n",
      "Variable: emp_length_7 years   Importance: 0.01\n",
      "Variable: emp_length_8 years   Importance: 0.01\n",
      "Variable: emp_length_9 years   Importance: 0.01\n",
      "Variable: emp_length_< 1 year  Importance: 0.01\n",
      "Variable: home_ownership_OWN   Importance: 0.01\n",
      "Variable: addr_state_AZ        Importance: 0.01\n",
      "Variable: addr_state_FL        Importance: 0.01\n",
      "Variable: addr_state_GA        Importance: 0.01\n",
      "Variable: addr_state_IL        Importance: 0.01\n",
      "Variable: addr_state_MA        Importance: 0.01\n",
      "Variable: addr_state_MD        Importance: 0.01\n",
      "Variable: addr_state_MI        Importance: 0.01\n",
      "Variable: addr_state_NJ        Importance: 0.01\n",
      "Variable: addr_state_NY        Importance: 0.01\n",
      "Variable: addr_state_OH        Importance: 0.01\n",
      "Variable: addr_state_PA        Importance: 0.01\n",
      "Variable: addr_state_TX        Importance: 0.01\n",
      "Variable: addr_state_VA        Importance: 0.01\n",
      "Variable: addr_state_WA        Importance: 0.01\n",
      "Variable: home_ownership_NONE  Importance: 0.0\n",
      "Variable: home_ownership_OTHER Importance: 0.0\n",
      "Variable: addr_state_AL        Importance: 0.0\n",
      "Variable: addr_state_AR        Importance: 0.0\n",
      "Variable: addr_state_CO        Importance: 0.0\n",
      "Variable: addr_state_CT        Importance: 0.0\n",
      "Variable: addr_state_DC        Importance: 0.0\n",
      "Variable: addr_state_DE        Importance: 0.0\n",
      "Variable: addr_state_HI        Importance: 0.0\n",
      "Variable: addr_state_IA        Importance: 0.0\n",
      "Variable: addr_state_ID        Importance: 0.0\n",
      "Variable: addr_state_IN        Importance: 0.0\n",
      "Variable: addr_state_KS        Importance: 0.0\n",
      "Variable: addr_state_KY        Importance: 0.0\n",
      "Variable: addr_state_LA        Importance: 0.0\n",
      "Variable: addr_state_ME        Importance: 0.0\n",
      "Variable: addr_state_MN        Importance: 0.0\n",
      "Variable: addr_state_MO        Importance: 0.0\n",
      "Variable: addr_state_MS        Importance: 0.0\n",
      "Variable: addr_state_MT        Importance: 0.0\n",
      "Variable: addr_state_NC        Importance: 0.0\n",
      "Variable: addr_state_NE        Importance: 0.0\n",
      "Variable: addr_state_NH        Importance: 0.0\n",
      "Variable: addr_state_NM        Importance: 0.0\n",
      "Variable: addr_state_NV        Importance: 0.0\n",
      "Variable: addr_state_OK        Importance: 0.0\n",
      "Variable: addr_state_OR        Importance: 0.0\n",
      "Variable: addr_state_RI        Importance: 0.0\n",
      "Variable: addr_state_SC        Importance: 0.0\n",
      "Variable: addr_state_SD        Importance: 0.0\n",
      "Variable: addr_state_TN        Importance: 0.0\n",
      "Variable: addr_state_UT        Importance: 0.0\n",
      "Variable: addr_state_VT        Importance: 0.0\n",
      "Variable: addr_state_WI        Importance: 0.0\n",
      "Variable: addr_state_WV        Importance: 0.0\n",
      "Variable: addr_state_WY        Importance: 0.0\n"
     ]
    }
   ],
   "source": [
    "# Get numerical feature importances\n",
    "importances = list(model.feature_importances_)\n",
    "\n",
    "# List of tuples with variable and importance\n",
    "feature_importances = [(feature, round(importance, 2)) for feature, importance in zip(loans_pred_names, importances)]\n",
    "\n",
    "# Sort the feature importances by most important first\n",
    "feature_importances = sorted(feature_importances, key = lambda x: x[1], reverse = True)\n",
    "\n",
    "# Print out the feature and importances \n",
    "[print('Variable: {:20} Importance: {}'.format(*pair)) for pair in feature_importances];"
   ]
  },
  {
   "cell_type": "code",
   "execution_count": 231,
   "id": "997c1748",
   "metadata": {},
   "outputs": [
    {
     "name": "stdout",
     "output_type": "stream",
     "text": [
      "[[6751  155]\n",
      " [1195   71]]\n"
     ]
    }
   ],
   "source": [
    "# to prepare for calculation of the ROC, let's get the predicted proabilities of default from the model\n",
    "pred_test = model.predict(loans_pred_test)\n",
    "\n",
    "\n",
    "cf_matrix = confusion_matrix(loans_resp_test, pred_test)\n",
    "print(cf_matrix)\n"
   ]
  },
  {
   "cell_type": "code",
   "execution_count": 232,
   "id": "a87c3e2f",
   "metadata": {},
   "outputs": [
    {
     "data": {
      "text/plain": [
       "<AxesSubplot:>"
      ]
     },
     "execution_count": 232,
     "metadata": {},
     "output_type": "execute_result"
    },
    {
     "data": {
      "image/png": "[encoded data removed]",
      "text/plain": [
       "<Figure size 432x288 with 2 Axes>"
      ]
     },
     "metadata": {
      "needs_background": "light"
     },
     "output_type": "display_data"
    }
   ],
   "source": [
    "group_names = ['True Neg','False Pos','False Neg','True Pos']\n",
    "group_counts = [\"{0:0.0f}\".format(value) for value in\n",
    "                cf_matrix.flatten()]\n",
    "group_percentages = [\"{0:.2%}\".format(value) for value in\n",
    "                     cf_matrix.flatten()/np.sum(cf_matrix)]\n",
    "labels = [f\"{v1}\\n{v2}\\n{v3}\" for v1, v2, v3 in\n",
    "          zip(group_names,group_counts,group_percentages)]\n",
    "labels = np.asarray(labels).reshape(2,2)\n",
    "sns.heatmap(cf_matrix, annot=labels, fmt='', cmap='Blues')"
   ]
  },
  {
   "cell_type": "code",
   "execution_count": 233,
   "id": "79db5eec",
   "metadata": {},
   "outputs": [
    {
     "data": {
      "text/plain": [
       "0.8348017621145375"
      ]
     },
     "execution_count": 233,
     "metadata": {},
     "output_type": "execute_result"
    }
   ],
   "source": [
    "# Accuracy\n",
    "from sklearn.metrics import accuracy_score\n",
    "accuracy_score(loans_resp_test, pred_test)"
   ]
  },
  {
   "cell_type": "code",
   "execution_count": 234,
   "id": "21ac693a",
   "metadata": {},
   "outputs": [
    {
     "name": "stdout",
     "output_type": "stream",
     "text": [
      "0.05608214849921011\n"
     ]
    }
   ],
   "source": [
    "# Recall\n",
    "from sklearn.metrics import recall_score\n",
    "recall_score = recall_score(loans_resp_test, pred_test)\n",
    "print(recall_score)"
   ]
  },
  {
   "cell_type": "code",
   "execution_count": 235,
   "id": "9fbf26ca",
   "metadata": {},
   "outputs": [
    {
     "data": {
      "text/plain": [
       "0.3141592920353982"
      ]
     },
     "execution_count": 235,
     "metadata": {},
     "output_type": "execute_result"
    }
   ],
   "source": [
    "# Precision\n",
    "from sklearn.metrics import precision_score\n",
    "pred_series_test = pd.Series(pred_test)\n",
    "precision_score(loans_resp_test, pred_series_test)"
   ]
  },
  {
   "cell_type": "code",
   "execution_count": 236,
   "id": "62357418",
   "metadata": {},
   "outputs": [
    {
     "data": {
      "text/plain": [
       "array([False,  True])"
      ]
     },
     "execution_count": 236,
     "metadata": {},
     "output_type": "execute_result"
    }
   ],
   "source": [
    "pred_series_test.unique()"
   ]
  },
  {
   "cell_type": "code",
   "execution_count": 237,
   "id": "4a4d4e69",
   "metadata": {},
   "outputs": [
    {
     "name": "stdout",
     "output_type": "stream",
     "text": [
      "100.0 83.0 67.0 6.0\n"
     ]
    }
   ],
   "source": [
    "print(round(train_score, 2)*100, round(test_score, 2) * 100, round(AUC_score, 2) * 100, round(recall_score, 2) * 100)"
   ]
  },
  {
   "cell_type": "code",
   "execution_count": null,
   "id": "5078803b",
   "metadata": {},
   "outputs": [],
   "source": []
  },
  {
   "cell_type": "code",
   "execution_count": null,
   "id": "888cd74a",
   "metadata": {},
   "outputs": [],
   "source": []
  }
 ],
 "metadata": {
  "kernelspec": {
   "display_name": "Python 3",
   "language": "python",
   "name": "python3"
  },
  "language_info": {
   "codemirror_mode": {
    "name": "ipython",
    "version": 3
   },
   "file_extension": ".py",
   "mimetype": "text/x-python",
   "name": "python",
   "nbconvert_exporter": "python",
   "pygments_lexer": "ipython3",
   "version": "3.8.8"
  },
  "varInspector": {
   "cols": {
    "lenName": 16,
    "lenType": 16,
    "lenVar": 40
   },
   "kernels_config": {
    "python": {
     "delete_cmd_postfix": "",
     "delete_cmd_prefix": "del ",
     "library": "var_list.py",
     "varRefreshCmd": "print(var_dic_list())"
    },
    "r": {
     "delete_cmd_postfix": ") ",
     "delete_cmd_prefix": "rm(",
     "library": "var_list.r",
     "varRefreshCmd": "cat(var_dic_list()) "
    }
   },
   "types_to_exclude": [
    "module",
    "function",
    "builtin_function_or_method",
    "instance",
    "_Feature"
   ],
   "window_display": false
  }
 },
 "nbformat": 4,
 "nbformat_minor": 5
}
