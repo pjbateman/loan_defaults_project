{
 "cells": [
  {
   "cell_type": "markdown",
   "id": "f1c9011d",
   "metadata": {},
   "source": [
    "## Context\n",
    "\n",
    "#### Business intelligence and data-driven decision making\n",
    "\n",
    "What insights can the business/organisation gain from your analysis and how will your analysis help the business/organisation make better decisions? \n",
    "\n",
    "#### Domain knowledge and the business context\n",
    "\n",
    "Briefly describe the business/organisation and where your analysis fits within its aims/activity. "
   ]
  },
  {
   "cell_type": "markdown",
   "id": "d3c9f3e2",
   "metadata": {},
   "source": [
    "## Data\n",
    "\n",
    "#### Internal and external data sources\n",
    "\n",
    "Briefly describe your data sources and which were internal (provided by the organisation) and external (not sourced from the organisation's data)\n",
    "\n",
    "#### Types of data\n",
    "\n",
    "What kind of data did you work with? E.g. categorical and numerical data and their sub-types.\n",
    "\n",
    "#### Data formats\n",
    "\n",
    "What format did your data come in? E.g. all downloaded flat files (CSV) or any data from APIs, scraping etc.\n",
    "\n",
    "#### Data quality and bias\n",
    "\n",
    "Briefly describe the quality of the data and whether you have any reasons to suggest the data is biased e.g. only data from a specific demographic even though a broader demographic would be of interest to the organisation."
   ]
  },
  {
   "cell_type": "markdown",
   "id": "f338b034",
   "metadata": {},
   "source": [
    "## Ethics\n",
    "\n",
    "#### Ethical issues in data sourcing and extraction\n",
    "\n",
    "Do you have any ethical concerns regarding the sourcing and extraction of your data? \n",
    "\n",
    "#### Ethical implications of business requirements\n",
    "\n",
    "Are there any ethical implications of the business requirements?"
   ]
  },
  {
   "cell_type": "markdown",
   "id": "d035c673",
   "metadata": {},
   "source": [
    "## Analysis\n",
    "\n",
    "#### Stages in the data analysis process\n",
    "\n",
    "What were the main stages in your data analysis process?\n",
    "\n",
    "#### Tools for data analysis\n",
    "\n",
    "What were the main tools you used for your analysis?\n",
    "\n",
    "#### Descriptive, diagnostic, predictive and prescriptive analysis\n",
    "\n",
    "Please report under which of the below categories your analysis falls **and why** (can be more than one) \n",
    "\n",
    "::: {.emphasis}\n",
    "**Descriptive Analytics** tells you what happened in the past.\n",
    "\n",
    "**Diagnostic Analytics** helps you understand why something happened in the past.\n",
    "\n",
    "**Predictive Analytics** predicts what is most likely to happen in the future.\n",
    "\n",
    "**Prescriptive Analytics** recommends actions you can take to affect those outcomes.\n",
    ":::"
   ]
  },
  {
   "cell_type": "markdown",
   "id": "a9e43e14",
   "metadata": {},
   "source": [
    "# PDA Outcomes\n",
    "\n",
    "### Working with Data (J4Y6 35)\n",
    "\n",
    "#### 1. Plan an analysis to provide business intelligence\n",
    "\n",
    "-   1.1 Business intelligence and data-driven decision making\n",
    "-   1.2 Domain knowledge and the business context\n",
    "-   1.4 Internal and external data sources\n",
    "-   1.5 Data quality\n",
    "-   1.6 Stages in the data analysis process\n",
    "-   1.7 Descriptive, diagnostic, predictive and prescriptive analysis\n",
    "-   1.9 Ethical implications of business requirements\n",
    "-   1.10 Tools for data analysis\n",
    "\n",
    "#### 2. Extract data from a variety of sources\n",
    "\n",
    "-   2.1 Tools for querying data sources\n",
    "-   2.2 Types of data (categorical and numerical data and their sub-types)\n",
    "-   2.3 Data formats\n",
    "-   2.6 Data quality including data bias\n",
    "-   2.7 Ethical issues in data sourcing and extraction"
   ]
  }
 ],
 "metadata": {
  "kernelspec": {
   "display_name": "Python 3",
   "language": "python",
   "name": "python3"
  },
  "language_info": {
   "codemirror_mode": {
    "name": "ipython",
    "version": 3
   },
   "file_extension": ".py",
   "mimetype": "text/x-python",
   "name": "python",
   "nbconvert_exporter": "python",
   "pygments_lexer": "ipython3",
   "version": "3.8.8"
  },
  "varInspector": {
   "cols": {
    "lenName": 16,
    "lenType": 16,
    "lenVar": 40
   },
   "kernels_config": {
    "python": {
     "delete_cmd_postfix": "",
     "delete_cmd_prefix": "del ",
     "library": "var_list.py",
     "varRefreshCmd": "print(var_dic_list())"
    },
    "r": {
     "delete_cmd_postfix": ") ",
     "delete_cmd_prefix": "rm(",
     "library": "var_list.r",
     "varRefreshCmd": "cat(var_dic_list()) "
    }
   },
   "types_to_exclude": [
    "module",
    "function",
    "builtin_function_or_method",
    "instance",
    "_Feature"
   ],
   "window_display": false
  }
 },
 "nbformat": 4,
 "nbformat_minor": 5
}
