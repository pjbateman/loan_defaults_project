{
 "cells": [
  {
   "cell_type": "markdown",
   "id": "f1c9011d",
   "metadata": {},
   "source": [
    "## Context\n",
    "\n",
    "#### Business intelligence and data-driven decision making\n",
    "\n",
    "The business can gain various insights from the descriptive analysis and the statistical modeling.\n",
    "Specifically, the business will see from the visualisations the distributions of values in various categories\n",
    "such as 'loan_amount' and 'fico' which facilitates an understanding of how much customers borrow in general, and what\n",
    "level of credit quality they exhibit.  The modeling output gives the business insight into which data variables\n",
    "are most important to focus on when gathering customer data and making the lending decision.\n",
    "\n",
    "#### Domain knowledge and the business context\n",
    "\n",
    "The business context of the data project  features a US-based client which operates an online peer-to-peer consumer-lending platform called 'Lending Club'.  The client has amassed a large amount of loan data and wishes to better understand default behaviour in order to make better lending decisions.  The analysis of the data seeks to meet this client requirement by giving some insights into the detail of the data, as well as an understanding of which loan applicant characterstics best explain the outcome of default."
   ]
  },
  {
   "cell_type": "markdown",
   "id": "d3c9f3e2",
   "metadata": {},
   "source": [
    "## Data\n",
    "\n",
    "#### Internal and external data sources\n",
    "\n",
    "The internal data sources provided by the organisation featured a large dataset (over 40,000) of loans which included repaid, defaulted and current loans.  In addition, the client provided (i) an internal dataset which set out the various categories of applicant risk according to an internal risk scale, and (ii) a 'data dictionary' which explained some of the terms provided in the loan dataset.  An external source of data explained which US state pertained to the state codes mentioned in the loan data.\n",
    "\n",
    "#### Types of data\n",
    "\n",
    "The data included a mixture of categorical (e.g. 'loan_status'), numerical (e.g. 'annual_income') and dates (e.g. 'issue_date').\n",
    "\n",
    "#### Data formats\n",
    "\n",
    "All the data was in the form of downloaded flat files (CSV).\n",
    "\n",
    "#### Data quality and bias\n",
    "\n",
    "The data comprises over 40,000 unique loans, each from a unique borrower.  Broadly the quality of the raw data was good and required limited re-formatting and cleaning.  Although the dataset included over 100 variables, much of this data was not populated, so could not be used in the analysis.  \n",
    "\n",
    "No age or gender data was provided, so these aspects of the demographic makeup remain unknown.  The home Zip code and US-state information is present in the data and we observe the geographic distribution of borrowers is broadly diverse.  The *average* annual default rate reported by the client is around 6%-7% but we observed a default rate across four years which ranged from 15% to 27% - this would indicate that the sample dataset comprised more defaulted loans than is representative of the client's complete records - this aspect did not impair the analysis however as the client's brief focuses on the characteristics of a defaulting borrower, rather than predicting the default rate."
   ]
  },
  {
   "cell_type": "markdown",
   "id": "f338b034",
   "metadata": {},
   "source": [
    "## Ethics\n",
    "\n",
    "#### Ethical issues in data sourcing and extraction\n",
    "\n",
    "There are limited ethical concerns regarding the sourcing and extraction of the data.  While it is not known whether the borrowers have consent for their loan details to be used for third-party analysis, it is not possible to identify individuals from the data.  Customers are only identifiable by an ID code, which is meaningful only to the client.  It is not possible to identify people by zip code alone.  \n",
    "\n",
    "#### Ethical implications of business requirements\n",
    "\n",
    "Using anonymised loan data in aggregate to understand default behaviour would not be deemed unethical by most standards.  If, on the basis of the project findings, the client decided to ration credit to particular demographic groups (e.g. loan applicants from a specific US state), that *could* have potential ethical implications.  However, the nature of the project recommendations would not imply an ethical concern."
   ]
  },
  {
   "cell_type": "markdown",
   "id": "d035c673",
   "metadata": {},
   "source": [
    "## Analysis\n",
    "\n",
    "#### Stages in the data analysis process\n",
    "\n",
    "The main stages of the data analysis process included:\n",
    "* loading the raw data and glimpsing the content\n",
    "* exploratory data analysis\n",
    "* cleaning the data and selecting the key variables\n",
    "* descriptive analysis and visualisation of cleaned dataset\n",
    "* statistical model build to predict default behaviour\n",
    "* interpretation of model results\n",
    "\n",
    "#### Tools for data analysis\n",
    "\n",
    "The main tools involved in the analytical process include Jupyter notebooks containing code written in Python.\n",
    "The statistical model chosen is a logistic regression model, as this suits the dichotomous dependent variable, 'defaulted'.  Supplementary to this, a random forest model was developed.\n",
    "\n",
    "#### Descriptive, diagnostic, predictive and prescriptive analysis\n",
    "\n",
    "The main categories of analysis include both Descriptive Analysis and Diagnostic Analysis.\n",
    "The Descriptive Analysis output describes the content of the data and its range, using both visualisations and numeric output.  The Diagnostic Analysis comprises modeling designed to explain why loans were either resolved by repayment or borrower default."
   ]
  }
 ],
 "metadata": {
  "kernelspec": {
   "display_name": "Python 3",
   "language": "python",
   "name": "python3"
  },
  "language_info": {
   "codemirror_mode": {
    "name": "ipython",
    "version": 3
   },
   "file_extension": ".py",
   "mimetype": "text/x-python",
   "name": "python",
   "nbconvert_exporter": "python",
   "pygments_lexer": "ipython3",
   "version": "3.8.8"
  },
  "varInspector": {
   "cols": {
    "lenName": 16,
    "lenType": 16,
    "lenVar": 40
   },
   "kernels_config": {
    "python": {
     "delete_cmd_postfix": "",
     "delete_cmd_prefix": "del ",
     "library": "var_list.py",
     "varRefreshCmd": "print(var_dic_list())"
    },
    "r": {
     "delete_cmd_postfix": ") ",
     "delete_cmd_prefix": "rm(",
     "library": "var_list.r",
     "varRefreshCmd": "cat(var_dic_list()) "
    }
   },
   "types_to_exclude": [
    "module",
    "function",
    "builtin_function_or_method",
    "instance",
    "_Feature"
   ],
   "window_display": false
  }
 },
 "nbformat": 4,
 "nbformat_minor": 5
}
