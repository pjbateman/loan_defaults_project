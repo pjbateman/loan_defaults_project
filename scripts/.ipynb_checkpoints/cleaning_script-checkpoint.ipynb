{
 "cells": [
  {
   "cell_type": "code",
   "execution_count": 433,
   "id": "eda1af81",
   "metadata": {},
   "outputs": [],
   "source": [
    "import pandas as pd\n",
    "import numpy as np\n",
    "import re as re # for string placement on 'issue_d' column"
   ]
  },
  {
   "cell_type": "code",
   "execution_count": 434,
   "id": "41541d98",
   "metadata": {},
   "outputs": [
    {
     "name": "stderr",
     "output_type": "stream",
     "text": [
      "/usr/local/anaconda3/lib/python3.8/site-packages/IPython/core/interactiveshell.py:3165: DtypeWarning: Columns (36,48) have mixed types.Specify dtype option on import or set low_memory=False.\n",
      "  has_raised = await self.run_ast_nodes(code_ast.body, cell_name,\n"
     ]
    }
   ],
   "source": [
    "loans_data_raw = pd.read_csv(\"../data/raw_data/lending_club_loans.csv\")"
   ]
  },
  {
   "cell_type": "code",
   "execution_count": 435,
   "id": "a46c6903",
   "metadata": {},
   "outputs": [],
   "source": [
    "df = loans_data_raw.loc[:,[\n",
    "    'loan_status',\n",
    "    'loan_amnt',\n",
    "    'term',\n",
    "    'issue_d',\n",
    "    'int_rate',\n",
    "    'sub_grade',\n",
    "    'dti',\n",
    "    'fico_range_low',\n",
    "    'pub_rec',\n",
    "    'emp_length',\n",
    "    'home_ownership',\n",
    "    'verification_status',\n",
    "    'addr_state',\n",
    "    'annual_inc']].copy()"
   ]
  },
  {
   "cell_type": "code",
   "execution_count": 436,
   "id": "299d1c34",
   "metadata": {},
   "outputs": [],
   "source": [
    "df.dropna(inplace = True)\n",
    "# only lose 2% of dataset"
   ]
  },
  {
   "cell_type": "code",
   "execution_count": 437,
   "id": "e0839e1b",
   "metadata": {},
   "outputs": [],
   "source": [
    "# this query shows the breakdown of the key variable 'loan_status'\n",
    "#(df['loan_status'].value_counts() / df['loan_status'].count()) * 100"
   ]
  },
  {
   "cell_type": "code",
   "execution_count": 438,
   "id": "612cce3d",
   "metadata": {},
   "outputs": [],
   "source": [
    "# in 'loan_status', drop rows which are current, as they don't explain default outcome, and \n",
    "# they are a fraction of the dataset (<2%)\n",
    "df.drop(df[df.loan_status == 'In Grace Period'].index, inplace=True)\n",
    "df.drop(df[df.loan_status == 'Current'].index, inplace=True)\n",
    "df.drop(df[df.loan_status == 'Late (31-120 days)'].index, inplace=True)\n",
    "df.drop(df[df.loan_status == 'Late (16-30 days)'].index, inplace=True)"
   ]
  },
  {
   "cell_type": "code",
   "execution_count": 439,
   "id": "38170776",
   "metadata": {},
   "outputs": [],
   "source": [
    "# combine rows to final column of Defaulted (Y/N)\n",
    "df['loan_status'].replace('Does not meet the credit policy. Status:Fully Paid',\n",
    "                         'Fully Paid', inplace = True)\n",
    "df['loan_status'].replace('Does not meet the credit policy. Status:Charged Off',\n",
    "                         'Default', inplace = True)\n",
    "df['loan_status'].replace('Charged Off',\n",
    "                         'Default', inplace = True)\n",
    "df['loan_status'].replace('Fully Paid',\n",
    "                         'N', inplace = True)\n",
    "df['loan_status'].replace('Default',\n",
    "                         'Y', inplace = True)\n",
    "df.rename(columns={'loan_status': 'defaulted'}, inplace=True)\n",
    "\n",
    "# now the column contains boolean data, so it is transformed to data type 'bool'\n",
    "df['defaulted'] = df.defaulted.map(dict(Y=1, N=0)).astype('bool')"
   ]
  },
  {
   "cell_type": "code",
   "execution_count": 440,
   "id": "9ad50ef9",
   "metadata": {},
   "outputs": [],
   "source": [
    "# transform the data describing loan origination time, and extract only the year\n",
    "df['issue_yr'] = df['issue_d'].str.extract(r'(\\d+)').astype('int64')\n",
    "df.drop(['issue_d'], axis = 1, inplace = True)"
   ]
  },
  {
   "cell_type": "code",
   "execution_count": 441,
   "id": "557375b4",
   "metadata": {},
   "outputs": [],
   "source": [
    "# turn interest rate data into a float column from a string\n",
    "df['int_rate'] = df['int_rate'].str.extract(r'([0-9]+[.][0-9]+)').astype('float')"
   ]
  },
  {
   "cell_type": "code",
   "execution_count": 442,
   "id": "70814890",
   "metadata": {},
   "outputs": [],
   "source": [
    "# rename fico column\n",
    "df.rename(columns={'fico_range_low': 'fico'}, inplace=True)"
   ]
  },
  {
   "cell_type": "code",
   "execution_count": 443,
   "id": "0ac7abd3",
   "metadata": {},
   "outputs": [],
   "source": [
    "# the public derogaorty comment range from 0 to 5, and should be an integer\n",
    "df['pub_rec'] = df['pub_rec'].astype('int64')"
   ]
  },
  {
   "cell_type": "code",
   "execution_count": 444,
   "id": "2d8747f8",
   "metadata": {},
   "outputs": [],
   "source": [
    "# the annual income data does not include cents, so should be an integer data type\n",
    "df['annual_inc'] = df['annual_inc'].astype('int64')"
   ]
  },
  {
   "cell_type": "code",
   "execution_count": 445,
   "id": "a187d818",
   "metadata": {},
   "outputs": [],
   "source": [
    "# attempt to filter the data to exclude unverified high income data, which is skewing the data\n",
    "# the tilda ~ symbol does the opposite of what the criteria says\n",
    "# the number of rows is reduced by 13, as expected\n",
    "df = df.loc[~((df['annual_inc'] >= 1000000) & (df['verification_status'] != 'Verified')),:]"
   ]
  },
  {
   "cell_type": "code",
   "execution_count": 446,
   "id": "cc0ef842",
   "metadata": {},
   "outputs": [],
   "source": [
    "# final check of data types in each column\n",
    "# print(df.dtypes)"
   ]
  },
  {
   "cell_type": "code",
   "execution_count": 447,
   "id": "4cf06914",
   "metadata": {},
   "outputs": [],
   "source": [
    "# final check that the key 'default' column contains the expected proportion of values\n",
    "# (df['defaulted'].value_counts() / df['defaulted'].count()) * 100"
   ]
  },
  {
   "cell_type": "code",
   "execution_count": 448,
   "id": "a2c739a2",
   "metadata": {},
   "outputs": [],
   "source": [
    "# write the cleaned data into a new file for seperate analysis workflow\n",
    "df.to_csv(\"../data/clean_data/lending_club_loans_cleaned.csv\", index=False)"
   ]
  }
 ],
 "metadata": {
  "kernelspec": {
   "display_name": "Python 3",
   "language": "python",
   "name": "python3"
  },
  "language_info": {
   "codemirror_mode": {
    "name": "ipython",
    "version": 3
   },
   "file_extension": ".py",
   "mimetype": "text/x-python",
   "name": "python",
   "nbconvert_exporter": "python",
   "pygments_lexer": "ipython3",
   "version": "3.8.8"
  },
  "varInspector": {
   "cols": {
    "lenName": 16,
    "lenType": 16,
    "lenVar": 40
   },
   "kernels_config": {
    "python": {
     "delete_cmd_postfix": "",
     "delete_cmd_prefix": "del ",
     "library": "var_list.py",
     "varRefreshCmd": "print(var_dic_list())"
    },
    "r": {
     "delete_cmd_postfix": ") ",
     "delete_cmd_prefix": "rm(",
     "library": "var_list.r",
     "varRefreshCmd": "cat(var_dic_list()) "
    }
   },
   "types_to_exclude": [
    "module",
    "function",
    "builtin_function_or_method",
    "instance",
    "_Feature"
   ],
   "window_display": false
  }
 },
 "nbformat": 4,
 "nbformat_minor": 5
}
