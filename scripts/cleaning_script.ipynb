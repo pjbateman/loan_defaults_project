{
 "cells": [
  {
   "cell_type": "code",
   "execution_count": 180,
   "id": "eda1af81",
   "metadata": {},
   "outputs": [],
   "source": [
    "import pandas as pd\n",
    "import numpy as np\n",
    "import re as re # for string placement on 'issue_d' column"
   ]
  },
  {
   "cell_type": "code",
   "execution_count": 181,
   "id": "41541d98",
   "metadata": {},
   "outputs": [
    {
     "name": "stderr",
     "output_type": "stream",
     "text": [
      "/usr/local/anaconda3/lib/python3.8/site-packages/IPython/core/interactiveshell.py:3165: DtypeWarning: Columns (36,48) have mixed types.Specify dtype option on import or set low_memory=False.\n",
      "  has_raised = await self.run_ast_nodes(code_ast.body, cell_name,\n"
     ]
    }
   ],
   "source": [
    "loans_data_raw = pd.read_csv(\"../data/raw_data/lending_club_loans.csv\")"
   ]
  },
  {
   "cell_type": "code",
   "execution_count": 182,
   "id": "a46c6903",
   "metadata": {},
   "outputs": [],
   "source": [
    "df = loans_data_raw.loc[:,[\n",
    "    'loan_status',\n",
    "    'loan_amnt',\n",
    "    'term',\n",
    "    'issue_d',\n",
    "    'int_rate',\n",
    "    'sub_grade',\n",
    "    'dti',\n",
    "    'fico_range_low',\n",
    "    'pub_rec',\n",
    "    'emp_length',\n",
    "    'home_ownership',\n",
    "    'verification_status',\n",
    "    'addr_state',\n",
    "    'annual_inc']].copy()"
   ]
  },
  {
   "cell_type": "code",
   "execution_count": 183,
   "id": "299d1c34",
   "metadata": {},
   "outputs": [],
   "source": [
    "df.dropna(inplace = True)\n",
    "# only lose 2% of dataset"
   ]
  },
  {
   "cell_type": "code",
   "execution_count": 184,
   "id": "e0839e1b",
   "metadata": {},
   "outputs": [
    {
     "data": {
      "text/plain": [
       "Fully Paid                                             79.139489\n",
       "Charged Off                                            13.100933\n",
       "Does not meet the credit policy. Status:Fully Paid      4.693917\n",
       "Does not meet the credit policy. Status:Charged Off     1.794946\n",
       "Current                                                 1.193410\n",
       "In Grace Period                                         0.036237\n",
       "Late (31-120 days)                                      0.028990\n",
       "Late (16-30 days)                                       0.009663\n",
       "Default                                                 0.002416\n",
       "Name: loan_status, dtype: float64"
      ]
     },
     "execution_count": 184,
     "metadata": {},
     "output_type": "execute_result"
    }
   ],
   "source": [
    "(df['loan_status'].value_counts() / df['loan_status'].count()) * 100"
   ]
  },
  {
   "cell_type": "code",
   "execution_count": 185,
   "id": "612cce3d",
   "metadata": {},
   "outputs": [],
   "source": [
    "# drop rows which are current, as they don't explain default outcome, and they are a fraction of the dataset (<2%)\n",
    "df.drop(df[df.loan_status == 'In Grace Period'].index, inplace=True)\n",
    "df.drop(df[df.loan_status == 'Current'].index, inplace=True)\n",
    "df.drop(df[df.loan_status == 'Late (31-120 days)'].index, inplace=True)\n",
    "df.drop(df[df.loan_status == 'Late (16-30 days)'].index, inplace=True)\n",
    "\n",
    "\n"
   ]
  },
  {
   "cell_type": "code",
   "execution_count": 186,
   "id": "38170776",
   "metadata": {},
   "outputs": [],
   "source": [
    "# combine rows to final column of Defaulted (Y/N)\n",
    "df['loan_status'].replace('Does not meet the credit policy. Status:Fully Paid',\n",
    "                         'Fully Paid', inplace = True)\n",
    "df['loan_status'].replace('Does not meet the credit policy. Status:Charged Off',\n",
    "                         'Default', inplace = True)\n",
    "df['loan_status'].replace('Charged Off',\n",
    "                         'Default', inplace = True)\n",
    "df['loan_status'].replace('Fully Paid',\n",
    "                         'N', inplace = True)\n",
    "df['loan_status'].replace('Default',\n",
    "                         'Y', inplace = True)\n",
    "df.rename(columns={'loan_status': 'defaulted'}, inplace=True)"
   ]
  },
  {
   "cell_type": "code",
   "execution_count": 190,
   "id": "63e16e08",
   "metadata": {},
   "outputs": [
    {
     "data": {
      "text/plain": [
       "Index(['defaulted', 'loan_amnt', 'term', 'int_rate', 'sub_grade', 'dti',\n",
       "       'fico_range_low', 'pub_rec', 'emp_length', 'home_ownership',\n",
       "       'verification_status', 'addr_state', 'annual_inc', 'issue_yr'],\n",
       "      dtype='object')"
      ]
     },
     "execution_count": 190,
     "metadata": {},
     "output_type": "execute_result"
    }
   ],
   "source": [
    "df['issue_yr'] = df['issue_d'].str.extract(r'(\\d+)').astype('int64')\n",
    "df.drop(['issue_d'], axis = 1, inplace = True)\n",
    "df.columns"
   ]
  },
  {
   "cell_type": "code",
   "execution_count": null,
   "id": "b1efad92",
   "metadata": {},
   "outputs": [],
   "source": [
    "df.columns"
   ]
  },
  {
   "cell_type": "code",
   "execution_count": null,
   "id": "9415d597",
   "metadata": {},
   "outputs": [],
   "source": [
    "\n",
    "(df['defaulted'].value_counts() / df['defaulted'].count()) * 100"
   ]
  },
  {
   "cell_type": "code",
   "execution_count": null,
   "id": "0ac7abd3",
   "metadata": {},
   "outputs": [],
   "source": [
    "df['term'].unique()"
   ]
  },
  {
   "cell_type": "code",
   "execution_count": null,
   "id": "502c66a1",
   "metadata": {},
   "outputs": [],
   "source": [
    "df['issue_d'].unique()"
   ]
  },
  {
   "cell_type": "code",
   "execution_count": null,
   "id": "ad25bad3",
   "metadata": {},
   "outputs": [],
   "source": []
  },
  {
   "cell_type": "code",
   "execution_count": null,
   "id": "5338c913",
   "metadata": {},
   "outputs": [],
   "source": []
  }
 ],
 "metadata": {
  "kernelspec": {
   "display_name": "Python 3",
   "language": "python",
   "name": "python3"
  },
  "language_info": {
   "codemirror_mode": {
    "name": "ipython",
    "version": 3
   },
   "file_extension": ".py",
   "mimetype": "text/x-python",
   "name": "python",
   "nbconvert_exporter": "python",
   "pygments_lexer": "ipython3",
   "version": "3.8.8"
  },
  "varInspector": {
   "cols": {
    "lenName": 16,
    "lenType": 16,
    "lenVar": 40
   },
   "kernels_config": {
    "python": {
     "delete_cmd_postfix": "",
     "delete_cmd_prefix": "del ",
     "library": "var_list.py",
     "varRefreshCmd": "print(var_dic_list())"
    },
    "r": {
     "delete_cmd_postfix": ") ",
     "delete_cmd_prefix": "rm(",
     "library": "var_list.r",
     "varRefreshCmd": "cat(var_dic_list()) "
    }
   },
   "types_to_exclude": [
    "module",
    "function",
    "builtin_function_or_method",
    "instance",
    "_Feature"
   ],
   "window_display": false
  }
 },
 "nbformat": 4,
 "nbformat_minor": 5
}
